{
 "cells": [
  {
   "cell_type": "markdown",
   "id": "9509fd4c",
   "metadata": {},
   "source": [
    "# Titanic (1912)"
   ]
  },
  {
   "cell_type": "markdown",
   "id": "d7de9492",
   "metadata": {},
   "source": [
    "The dataset is contains the information about the passengers on Titanic Ship.\n",
    "Based on the information we have to predict if the certain person(passenger) have survived or not.\n",
    "Therefore, classification model applies for prediction by machine learning"
   ]
  },
  {
   "cell_type": "raw",
   "id": "60560d8b",
   "metadata": {},
   "source": [
    "PassengerID - shows the id no of passenger\n",
    "Survived - shows if the passenger have survived(1) or not(0)\n",
    "Pclass - class category for passenger on the ship accomodation\n",
    "Name - Name of the passenger\n",
    "Sex - describes gender \n",
    "Age - age of the passenger\n",
    "SibSp - Indicates if the passenger was accamponied with sibling or spouse\n",
    "Parch - Parent child \n",
    "Ticket - Ticket No\n",
    "Fare - price of the ticket\n",
    "Cabin - rooms allotted to passenger\n",
    "Embarked - rescued off the ship"
   ]
  },
  {
   "cell_type": "code",
   "execution_count": 1,
   "id": "0342d1d0",
   "metadata": {},
   "outputs": [],
   "source": [
    "#importing libraries\n",
    "\n",
    "import pandas as pd\n",
    "import numpy as np\n",
    "import matplotlib.pyplot as plt\n",
    "import seaborn as sns"
   ]
  },
  {
   "cell_type": "code",
   "execution_count": 2,
   "id": "4b888c76",
   "metadata": {},
   "outputs": [
    {
     "data": {
      "text/html": [
       "<div>\n",
       "<style scoped>\n",
       "    .dataframe tbody tr th:only-of-type {\n",
       "        vertical-align: middle;\n",
       "    }\n",
       "\n",
       "    .dataframe tbody tr th {\n",
       "        vertical-align: top;\n",
       "    }\n",
       "\n",
       "    .dataframe thead th {\n",
       "        text-align: right;\n",
       "    }\n",
       "</style>\n",
       "<table border=\"1\" class=\"dataframe\">\n",
       "  <thead>\n",
       "    <tr style=\"text-align: right;\">\n",
       "      <th></th>\n",
       "      <th>PassengerId</th>\n",
       "      <th>Survived</th>\n",
       "      <th>Pclass</th>\n",
       "      <th>Name</th>\n",
       "      <th>Sex</th>\n",
       "      <th>Age</th>\n",
       "      <th>SibSp</th>\n",
       "      <th>Parch</th>\n",
       "      <th>Ticket</th>\n",
       "      <th>Fare</th>\n",
       "      <th>Cabin</th>\n",
       "      <th>Embarked</th>\n",
       "    </tr>\n",
       "  </thead>\n",
       "  <tbody>\n",
       "    <tr>\n",
       "      <th>0</th>\n",
       "      <td>1</td>\n",
       "      <td>0</td>\n",
       "      <td>3</td>\n",
       "      <td>Braund, Mr. Owen Harris</td>\n",
       "      <td>male</td>\n",
       "      <td>22.0</td>\n",
       "      <td>1</td>\n",
       "      <td>0</td>\n",
       "      <td>A/5 21171</td>\n",
       "      <td>7.2500</td>\n",
       "      <td>NaN</td>\n",
       "      <td>S</td>\n",
       "    </tr>\n",
       "    <tr>\n",
       "      <th>1</th>\n",
       "      <td>2</td>\n",
       "      <td>1</td>\n",
       "      <td>1</td>\n",
       "      <td>Cumings, Mrs. John Bradley (Florence Briggs Th...</td>\n",
       "      <td>female</td>\n",
       "      <td>38.0</td>\n",
       "      <td>1</td>\n",
       "      <td>0</td>\n",
       "      <td>PC 17599</td>\n",
       "      <td>71.2833</td>\n",
       "      <td>C85</td>\n",
       "      <td>C</td>\n",
       "    </tr>\n",
       "    <tr>\n",
       "      <th>2</th>\n",
       "      <td>3</td>\n",
       "      <td>1</td>\n",
       "      <td>3</td>\n",
       "      <td>Heikkinen, Miss. Laina</td>\n",
       "      <td>female</td>\n",
       "      <td>26.0</td>\n",
       "      <td>0</td>\n",
       "      <td>0</td>\n",
       "      <td>STON/O2. 3101282</td>\n",
       "      <td>7.9250</td>\n",
       "      <td>NaN</td>\n",
       "      <td>S</td>\n",
       "    </tr>\n",
       "    <tr>\n",
       "      <th>3</th>\n",
       "      <td>4</td>\n",
       "      <td>1</td>\n",
       "      <td>1</td>\n",
       "      <td>Futrelle, Mrs. Jacques Heath (Lily May Peel)</td>\n",
       "      <td>female</td>\n",
       "      <td>35.0</td>\n",
       "      <td>1</td>\n",
       "      <td>0</td>\n",
       "      <td>113803</td>\n",
       "      <td>53.1000</td>\n",
       "      <td>C123</td>\n",
       "      <td>S</td>\n",
       "    </tr>\n",
       "    <tr>\n",
       "      <th>4</th>\n",
       "      <td>5</td>\n",
       "      <td>0</td>\n",
       "      <td>3</td>\n",
       "      <td>Allen, Mr. William Henry</td>\n",
       "      <td>male</td>\n",
       "      <td>35.0</td>\n",
       "      <td>0</td>\n",
       "      <td>0</td>\n",
       "      <td>373450</td>\n",
       "      <td>8.0500</td>\n",
       "      <td>NaN</td>\n",
       "      <td>S</td>\n",
       "    </tr>\n",
       "    <tr>\n",
       "      <th>...</th>\n",
       "      <td>...</td>\n",
       "      <td>...</td>\n",
       "      <td>...</td>\n",
       "      <td>...</td>\n",
       "      <td>...</td>\n",
       "      <td>...</td>\n",
       "      <td>...</td>\n",
       "      <td>...</td>\n",
       "      <td>...</td>\n",
       "      <td>...</td>\n",
       "      <td>...</td>\n",
       "      <td>...</td>\n",
       "    </tr>\n",
       "    <tr>\n",
       "      <th>886</th>\n",
       "      <td>887</td>\n",
       "      <td>0</td>\n",
       "      <td>2</td>\n",
       "      <td>Montvila, Rev. Juozas</td>\n",
       "      <td>male</td>\n",
       "      <td>27.0</td>\n",
       "      <td>0</td>\n",
       "      <td>0</td>\n",
       "      <td>211536</td>\n",
       "      <td>13.0000</td>\n",
       "      <td>NaN</td>\n",
       "      <td>S</td>\n",
       "    </tr>\n",
       "    <tr>\n",
       "      <th>887</th>\n",
       "      <td>888</td>\n",
       "      <td>1</td>\n",
       "      <td>1</td>\n",
       "      <td>Graham, Miss. Margaret Edith</td>\n",
       "      <td>female</td>\n",
       "      <td>19.0</td>\n",
       "      <td>0</td>\n",
       "      <td>0</td>\n",
       "      <td>112053</td>\n",
       "      <td>30.0000</td>\n",
       "      <td>B42</td>\n",
       "      <td>S</td>\n",
       "    </tr>\n",
       "    <tr>\n",
       "      <th>888</th>\n",
       "      <td>889</td>\n",
       "      <td>0</td>\n",
       "      <td>3</td>\n",
       "      <td>Johnston, Miss. Catherine Helen \"Carrie\"</td>\n",
       "      <td>female</td>\n",
       "      <td>NaN</td>\n",
       "      <td>1</td>\n",
       "      <td>2</td>\n",
       "      <td>W./C. 6607</td>\n",
       "      <td>23.4500</td>\n",
       "      <td>NaN</td>\n",
       "      <td>S</td>\n",
       "    </tr>\n",
       "    <tr>\n",
       "      <th>889</th>\n",
       "      <td>890</td>\n",
       "      <td>1</td>\n",
       "      <td>1</td>\n",
       "      <td>Behr, Mr. Karl Howell</td>\n",
       "      <td>male</td>\n",
       "      <td>26.0</td>\n",
       "      <td>0</td>\n",
       "      <td>0</td>\n",
       "      <td>111369</td>\n",
       "      <td>30.0000</td>\n",
       "      <td>C148</td>\n",
       "      <td>C</td>\n",
       "    </tr>\n",
       "    <tr>\n",
       "      <th>890</th>\n",
       "      <td>891</td>\n",
       "      <td>0</td>\n",
       "      <td>3</td>\n",
       "      <td>Dooley, Mr. Patrick</td>\n",
       "      <td>male</td>\n",
       "      <td>32.0</td>\n",
       "      <td>0</td>\n",
       "      <td>0</td>\n",
       "      <td>370376</td>\n",
       "      <td>7.7500</td>\n",
       "      <td>NaN</td>\n",
       "      <td>Q</td>\n",
       "    </tr>\n",
       "  </tbody>\n",
       "</table>\n",
       "<p>891 rows × 12 columns</p>\n",
       "</div>"
      ],
      "text/plain": [
       "     PassengerId  Survived  Pclass  \\\n",
       "0              1         0       3   \n",
       "1              2         1       1   \n",
       "2              3         1       3   \n",
       "3              4         1       1   \n",
       "4              5         0       3   \n",
       "..           ...       ...     ...   \n",
       "886          887         0       2   \n",
       "887          888         1       1   \n",
       "888          889         0       3   \n",
       "889          890         1       1   \n",
       "890          891         0       3   \n",
       "\n",
       "                                                  Name     Sex   Age  SibSp  \\\n",
       "0                              Braund, Mr. Owen Harris    male  22.0      1   \n",
       "1    Cumings, Mrs. John Bradley (Florence Briggs Th...  female  38.0      1   \n",
       "2                               Heikkinen, Miss. Laina  female  26.0      0   \n",
       "3         Futrelle, Mrs. Jacques Heath (Lily May Peel)  female  35.0      1   \n",
       "4                             Allen, Mr. William Henry    male  35.0      0   \n",
       "..                                                 ...     ...   ...    ...   \n",
       "886                              Montvila, Rev. Juozas    male  27.0      0   \n",
       "887                       Graham, Miss. Margaret Edith  female  19.0      0   \n",
       "888           Johnston, Miss. Catherine Helen \"Carrie\"  female   NaN      1   \n",
       "889                              Behr, Mr. Karl Howell    male  26.0      0   \n",
       "890                                Dooley, Mr. Patrick    male  32.0      0   \n",
       "\n",
       "     Parch            Ticket     Fare Cabin Embarked  \n",
       "0        0         A/5 21171   7.2500   NaN        S  \n",
       "1        0          PC 17599  71.2833   C85        C  \n",
       "2        0  STON/O2. 3101282   7.9250   NaN        S  \n",
       "3        0            113803  53.1000  C123        S  \n",
       "4        0            373450   8.0500   NaN        S  \n",
       "..     ...               ...      ...   ...      ...  \n",
       "886      0            211536  13.0000   NaN        S  \n",
       "887      0            112053  30.0000   B42        S  \n",
       "888      2        W./C. 6607  23.4500   NaN        S  \n",
       "889      0            111369  30.0000  C148        C  \n",
       "890      0            370376   7.7500   NaN        Q  \n",
       "\n",
       "[891 rows x 12 columns]"
      ]
     },
     "execution_count": 2,
     "metadata": {},
     "output_type": "execute_result"
    }
   ],
   "source": [
    "#loading csv file\n",
    "dt = pd.read_csv('titanic.csv')\n",
    "dt"
   ]
  },
  {
   "cell_type": "raw",
   "id": "2b0c58a8",
   "metadata": {},
   "source": [
    "Quick Observations after loading dataset\n",
    " 1. Categorical columns - [Survived, Pclass, SibSp, Parch, Embarked]\n",
    " 2. Every other value is missing in 'Cabin'\n",
    " 3. No statistical relation of ['Ticket', 'Name', 'PassengerID'] to Target Variable: 'Survived'\n",
    " 4. Can remove column - [PassengerID, Ticket, Name]\n",
    " 5. Need to convert ['Sex', 'Embarked'] to numeric categorical values"
   ]
  },
  {
   "cell_type": "markdown",
   "id": "b801932b",
   "metadata": {},
   "source": [
    "## A Quick Report of dataset "
   ]
  },
  {
   "cell_type": "code",
   "execution_count": 3,
   "id": "e5be90f9",
   "metadata": {},
   "outputs": [],
   "source": [
    "from pandas_profiling import ProfileReport"
   ]
  },
  {
   "cell_type": "code",
   "execution_count": 4,
   "id": "d42abd78",
   "metadata": {},
   "outputs": [],
   "source": [
    "profile = ProfileReport(dt, explorative = True)"
   ]
  },
  {
   "cell_type": "code",
   "execution_count": 5,
   "id": "478300aa",
   "metadata": {},
   "outputs": [
    {
     "data": {
      "application/vnd.jupyter.widget-view+json": {
       "model_id": "6998009f228c48ca8f6b3d473868f7f3",
       "version_major": 2,
       "version_minor": 0
      },
      "text/plain": [
       "Summarize dataset:   0%|          | 0/5 [00:00<?, ?it/s]"
      ]
     },
     "metadata": {},
     "output_type": "display_data"
    },
    {
     "ename": "KeyboardInterrupt",
     "evalue": "",
     "output_type": "error",
     "traceback": [
      "\u001b[1;31m---------------------------------------------------------------------------\u001b[0m",
      "\u001b[1;31mKeyboardInterrupt\u001b[0m                         Traceback (most recent call last)",
      "\u001b[1;32m<ipython-input-5-f9dbdb59857a>\u001b[0m in \u001b[0;36m<module>\u001b[1;34m\u001b[0m\n\u001b[1;32m----> 1\u001b[1;33m \u001b[0mprofile\u001b[0m\u001b[1;33m\u001b[0m\u001b[1;33m\u001b[0m\u001b[0m\n\u001b[0m",
      "\u001b[1;32m~\\anaconda3\\lib\\site-packages\\IPython\\core\\displayhook.py\u001b[0m in \u001b[0;36m__call__\u001b[1;34m(self, result)\u001b[0m\n\u001b[0;32m    260\u001b[0m             \u001b[0mself\u001b[0m\u001b[1;33m.\u001b[0m\u001b[0mstart_displayhook\u001b[0m\u001b[1;33m(\u001b[0m\u001b[1;33m)\u001b[0m\u001b[1;33m\u001b[0m\u001b[1;33m\u001b[0m\u001b[0m\n\u001b[0;32m    261\u001b[0m             \u001b[0mself\u001b[0m\u001b[1;33m.\u001b[0m\u001b[0mwrite_output_prompt\u001b[0m\u001b[1;33m(\u001b[0m\u001b[1;33m)\u001b[0m\u001b[1;33m\u001b[0m\u001b[1;33m\u001b[0m\u001b[0m\n\u001b[1;32m--> 262\u001b[1;33m             \u001b[0mformat_dict\u001b[0m\u001b[1;33m,\u001b[0m \u001b[0mmd_dict\u001b[0m \u001b[1;33m=\u001b[0m \u001b[0mself\u001b[0m\u001b[1;33m.\u001b[0m\u001b[0mcompute_format_data\u001b[0m\u001b[1;33m(\u001b[0m\u001b[0mresult\u001b[0m\u001b[1;33m)\u001b[0m\u001b[1;33m\u001b[0m\u001b[1;33m\u001b[0m\u001b[0m\n\u001b[0m\u001b[0;32m    263\u001b[0m             \u001b[0mself\u001b[0m\u001b[1;33m.\u001b[0m\u001b[0mupdate_user_ns\u001b[0m\u001b[1;33m(\u001b[0m\u001b[0mresult\u001b[0m\u001b[1;33m)\u001b[0m\u001b[1;33m\u001b[0m\u001b[1;33m\u001b[0m\u001b[0m\n\u001b[0;32m    264\u001b[0m             \u001b[0mself\u001b[0m\u001b[1;33m.\u001b[0m\u001b[0mfill_exec_result\u001b[0m\u001b[1;33m(\u001b[0m\u001b[0mresult\u001b[0m\u001b[1;33m)\u001b[0m\u001b[1;33m\u001b[0m\u001b[1;33m\u001b[0m\u001b[0m\n",
      "\u001b[1;32m~\\anaconda3\\lib\\site-packages\\IPython\\core\\displayhook.py\u001b[0m in \u001b[0;36mcompute_format_data\u001b[1;34m(self, result)\u001b[0m\n\u001b[0;32m    149\u001b[0m \u001b[1;33m\u001b[0m\u001b[0m\n\u001b[0;32m    150\u001b[0m         \"\"\"\n\u001b[1;32m--> 151\u001b[1;33m         \u001b[1;32mreturn\u001b[0m \u001b[0mself\u001b[0m\u001b[1;33m.\u001b[0m\u001b[0mshell\u001b[0m\u001b[1;33m.\u001b[0m\u001b[0mdisplay_formatter\u001b[0m\u001b[1;33m.\u001b[0m\u001b[0mformat\u001b[0m\u001b[1;33m(\u001b[0m\u001b[0mresult\u001b[0m\u001b[1;33m)\u001b[0m\u001b[1;33m\u001b[0m\u001b[1;33m\u001b[0m\u001b[0m\n\u001b[0m\u001b[0;32m    152\u001b[0m \u001b[1;33m\u001b[0m\u001b[0m\n\u001b[0;32m    153\u001b[0m     \u001b[1;31m# This can be set to True by the write_output_prompt method in a subclass\u001b[0m\u001b[1;33m\u001b[0m\u001b[1;33m\u001b[0m\u001b[1;33m\u001b[0m\u001b[0m\n",
      "\u001b[1;32m~\\anaconda3\\lib\\site-packages\\IPython\\core\\formatters.py\u001b[0m in \u001b[0;36mformat\u001b[1;34m(self, obj, include, exclude)\u001b[0m\n\u001b[0;32m    178\u001b[0m             \u001b[0mmd\u001b[0m \u001b[1;33m=\u001b[0m \u001b[1;32mNone\u001b[0m\u001b[1;33m\u001b[0m\u001b[1;33m\u001b[0m\u001b[0m\n\u001b[0;32m    179\u001b[0m             \u001b[1;32mtry\u001b[0m\u001b[1;33m:\u001b[0m\u001b[1;33m\u001b[0m\u001b[1;33m\u001b[0m\u001b[0m\n\u001b[1;32m--> 180\u001b[1;33m                 \u001b[0mdata\u001b[0m \u001b[1;33m=\u001b[0m \u001b[0mformatter\u001b[0m\u001b[1;33m(\u001b[0m\u001b[0mobj\u001b[0m\u001b[1;33m)\u001b[0m\u001b[1;33m\u001b[0m\u001b[1;33m\u001b[0m\u001b[0m\n\u001b[0m\u001b[0;32m    181\u001b[0m             \u001b[1;32mexcept\u001b[0m\u001b[1;33m:\u001b[0m\u001b[1;33m\u001b[0m\u001b[1;33m\u001b[0m\u001b[0m\n\u001b[0;32m    182\u001b[0m                 \u001b[1;31m# FIXME: log the exception\u001b[0m\u001b[1;33m\u001b[0m\u001b[1;33m\u001b[0m\u001b[1;33m\u001b[0m\u001b[0m\n",
      "\u001b[1;32m~\\anaconda3\\lib\\site-packages\\decorator.py\u001b[0m in \u001b[0;36mfun\u001b[1;34m(*args, **kw)\u001b[0m\n\u001b[0;32m    229\u001b[0m             \u001b[1;32mif\u001b[0m \u001b[1;32mnot\u001b[0m \u001b[0mkwsyntax\u001b[0m\u001b[1;33m:\u001b[0m\u001b[1;33m\u001b[0m\u001b[1;33m\u001b[0m\u001b[0m\n\u001b[0;32m    230\u001b[0m                 \u001b[0margs\u001b[0m\u001b[1;33m,\u001b[0m \u001b[0mkw\u001b[0m \u001b[1;33m=\u001b[0m \u001b[0mfix\u001b[0m\u001b[1;33m(\u001b[0m\u001b[0margs\u001b[0m\u001b[1;33m,\u001b[0m \u001b[0mkw\u001b[0m\u001b[1;33m,\u001b[0m \u001b[0msig\u001b[0m\u001b[1;33m)\u001b[0m\u001b[1;33m\u001b[0m\u001b[1;33m\u001b[0m\u001b[0m\n\u001b[1;32m--> 231\u001b[1;33m             \u001b[1;32mreturn\u001b[0m \u001b[0mcaller\u001b[0m\u001b[1;33m(\u001b[0m\u001b[0mfunc\u001b[0m\u001b[1;33m,\u001b[0m \u001b[1;33m*\u001b[0m\u001b[1;33m(\u001b[0m\u001b[0mextras\u001b[0m \u001b[1;33m+\u001b[0m \u001b[0margs\u001b[0m\u001b[1;33m)\u001b[0m\u001b[1;33m,\u001b[0m \u001b[1;33m**\u001b[0m\u001b[0mkw\u001b[0m\u001b[1;33m)\u001b[0m\u001b[1;33m\u001b[0m\u001b[1;33m\u001b[0m\u001b[0m\n\u001b[0m\u001b[0;32m    232\u001b[0m     \u001b[0mfun\u001b[0m\u001b[1;33m.\u001b[0m\u001b[0m__name__\u001b[0m \u001b[1;33m=\u001b[0m \u001b[0mfunc\u001b[0m\u001b[1;33m.\u001b[0m\u001b[0m__name__\u001b[0m\u001b[1;33m\u001b[0m\u001b[1;33m\u001b[0m\u001b[0m\n\u001b[0;32m    233\u001b[0m     \u001b[0mfun\u001b[0m\u001b[1;33m.\u001b[0m\u001b[0m__doc__\u001b[0m \u001b[1;33m=\u001b[0m \u001b[0mfunc\u001b[0m\u001b[1;33m.\u001b[0m\u001b[0m__doc__\u001b[0m\u001b[1;33m\u001b[0m\u001b[1;33m\u001b[0m\u001b[0m\n",
      "\u001b[1;32m~\\anaconda3\\lib\\site-packages\\IPython\\core\\formatters.py\u001b[0m in \u001b[0;36mcatch_format_error\u001b[1;34m(method, self, *args, **kwargs)\u001b[0m\n\u001b[0;32m    222\u001b[0m     \u001b[1;34m\"\"\"show traceback on failed format call\"\"\"\u001b[0m\u001b[1;33m\u001b[0m\u001b[1;33m\u001b[0m\u001b[0m\n\u001b[0;32m    223\u001b[0m     \u001b[1;32mtry\u001b[0m\u001b[1;33m:\u001b[0m\u001b[1;33m\u001b[0m\u001b[1;33m\u001b[0m\u001b[0m\n\u001b[1;32m--> 224\u001b[1;33m         \u001b[0mr\u001b[0m \u001b[1;33m=\u001b[0m \u001b[0mmethod\u001b[0m\u001b[1;33m(\u001b[0m\u001b[0mself\u001b[0m\u001b[1;33m,\u001b[0m \u001b[1;33m*\u001b[0m\u001b[0margs\u001b[0m\u001b[1;33m,\u001b[0m \u001b[1;33m**\u001b[0m\u001b[0mkwargs\u001b[0m\u001b[1;33m)\u001b[0m\u001b[1;33m\u001b[0m\u001b[1;33m\u001b[0m\u001b[0m\n\u001b[0m\u001b[0;32m    225\u001b[0m     \u001b[1;32mexcept\u001b[0m \u001b[0mNotImplementedError\u001b[0m\u001b[1;33m:\u001b[0m\u001b[1;33m\u001b[0m\u001b[1;33m\u001b[0m\u001b[0m\n\u001b[0;32m    226\u001b[0m         \u001b[1;31m# don't warn on NotImplementedErrors\u001b[0m\u001b[1;33m\u001b[0m\u001b[1;33m\u001b[0m\u001b[1;33m\u001b[0m\u001b[0m\n",
      "\u001b[1;32m~\\anaconda3\\lib\\site-packages\\IPython\\core\\formatters.py\u001b[0m in \u001b[0;36m__call__\u001b[1;34m(self, obj)\u001b[0m\n\u001b[0;32m    343\u001b[0m             \u001b[0mmethod\u001b[0m \u001b[1;33m=\u001b[0m \u001b[0mget_real_method\u001b[0m\u001b[1;33m(\u001b[0m\u001b[0mobj\u001b[0m\u001b[1;33m,\u001b[0m \u001b[0mself\u001b[0m\u001b[1;33m.\u001b[0m\u001b[0mprint_method\u001b[0m\u001b[1;33m)\u001b[0m\u001b[1;33m\u001b[0m\u001b[1;33m\u001b[0m\u001b[0m\n\u001b[0;32m    344\u001b[0m             \u001b[1;32mif\u001b[0m \u001b[0mmethod\u001b[0m \u001b[1;32mis\u001b[0m \u001b[1;32mnot\u001b[0m \u001b[1;32mNone\u001b[0m\u001b[1;33m:\u001b[0m\u001b[1;33m\u001b[0m\u001b[1;33m\u001b[0m\u001b[0m\n\u001b[1;32m--> 345\u001b[1;33m                 \u001b[1;32mreturn\u001b[0m \u001b[0mmethod\u001b[0m\u001b[1;33m(\u001b[0m\u001b[1;33m)\u001b[0m\u001b[1;33m\u001b[0m\u001b[1;33m\u001b[0m\u001b[0m\n\u001b[0m\u001b[0;32m    346\u001b[0m             \u001b[1;32mreturn\u001b[0m \u001b[1;32mNone\u001b[0m\u001b[1;33m\u001b[0m\u001b[1;33m\u001b[0m\u001b[0m\n\u001b[0;32m    347\u001b[0m         \u001b[1;32melse\u001b[0m\u001b[1;33m:\u001b[0m\u001b[1;33m\u001b[0m\u001b[1;33m\u001b[0m\u001b[0m\n",
      "\u001b[1;32m~\\AppData\\Roaming\\Python\\Python38\\site-packages\\pandas_profiling\\profile_report.py\u001b[0m in \u001b[0;36m_repr_html_\u001b[1;34m(self)\u001b[0m\n\u001b[0;32m    416\u001b[0m     \u001b[1;32mdef\u001b[0m \u001b[0m_repr_html_\u001b[0m\u001b[1;33m(\u001b[0m\u001b[0mself\u001b[0m\u001b[1;33m)\u001b[0m \u001b[1;33m->\u001b[0m \u001b[1;32mNone\u001b[0m\u001b[1;33m:\u001b[0m\u001b[1;33m\u001b[0m\u001b[1;33m\u001b[0m\u001b[0m\n\u001b[0;32m    417\u001b[0m         \u001b[1;34m\"\"\"The ipython notebook widgets user interface gets called by the jupyter notebook.\"\"\"\u001b[0m\u001b[1;33m\u001b[0m\u001b[1;33m\u001b[0m\u001b[0m\n\u001b[1;32m--> 418\u001b[1;33m         \u001b[0mself\u001b[0m\u001b[1;33m.\u001b[0m\u001b[0mto_notebook_iframe\u001b[0m\u001b[1;33m(\u001b[0m\u001b[1;33m)\u001b[0m\u001b[1;33m\u001b[0m\u001b[1;33m\u001b[0m\u001b[0m\n\u001b[0m\u001b[0;32m    419\u001b[0m \u001b[1;33m\u001b[0m\u001b[0m\n\u001b[0;32m    420\u001b[0m     \u001b[1;32mdef\u001b[0m \u001b[0m__repr__\u001b[0m\u001b[1;33m(\u001b[0m\u001b[0mself\u001b[0m\u001b[1;33m)\u001b[0m \u001b[1;33m->\u001b[0m \u001b[0mstr\u001b[0m\u001b[1;33m:\u001b[0m\u001b[1;33m\u001b[0m\u001b[1;33m\u001b[0m\u001b[0m\n",
      "\u001b[1;32m~\\AppData\\Roaming\\Python\\Python38\\site-packages\\pandas_profiling\\profile_report.py\u001b[0m in \u001b[0;36mto_notebook_iframe\u001b[1;34m(self)\u001b[0m\n\u001b[0;32m    396\u001b[0m         \u001b[1;32mwith\u001b[0m \u001b[0mwarnings\u001b[0m\u001b[1;33m.\u001b[0m\u001b[0mcatch_warnings\u001b[0m\u001b[1;33m(\u001b[0m\u001b[1;33m)\u001b[0m\u001b[1;33m:\u001b[0m\u001b[1;33m\u001b[0m\u001b[1;33m\u001b[0m\u001b[0m\n\u001b[0;32m    397\u001b[0m             \u001b[0mwarnings\u001b[0m\u001b[1;33m.\u001b[0m\u001b[0msimplefilter\u001b[0m\u001b[1;33m(\u001b[0m\u001b[1;34m\"ignore\"\u001b[0m\u001b[1;33m)\u001b[0m\u001b[1;33m\u001b[0m\u001b[1;33m\u001b[0m\u001b[0m\n\u001b[1;32m--> 398\u001b[1;33m             \u001b[0mdisplay\u001b[0m\u001b[1;33m(\u001b[0m\u001b[0mget_notebook_iframe\u001b[0m\u001b[1;33m(\u001b[0m\u001b[0mself\u001b[0m\u001b[1;33m.\u001b[0m\u001b[0mconfig\u001b[0m\u001b[1;33m,\u001b[0m \u001b[0mself\u001b[0m\u001b[1;33m)\u001b[0m\u001b[1;33m)\u001b[0m\u001b[1;33m\u001b[0m\u001b[1;33m\u001b[0m\u001b[0m\n\u001b[0m\u001b[0;32m    399\u001b[0m \u001b[1;33m\u001b[0m\u001b[0m\n\u001b[0;32m    400\u001b[0m     \u001b[1;32mdef\u001b[0m \u001b[0mto_widgets\u001b[0m\u001b[1;33m(\u001b[0m\u001b[0mself\u001b[0m\u001b[1;33m)\u001b[0m \u001b[1;33m->\u001b[0m \u001b[1;32mNone\u001b[0m\u001b[1;33m:\u001b[0m\u001b[1;33m\u001b[0m\u001b[1;33m\u001b[0m\u001b[0m\n",
      "\u001b[1;32m~\\AppData\\Roaming\\Python\\Python38\\site-packages\\pandas_profiling\\report\\presentation\\flavours\\widget\\notebook.py\u001b[0m in \u001b[0;36mget_notebook_iframe\u001b[1;34m(config, profile)\u001b[0m\n\u001b[0;32m     73\u001b[0m         \u001b[0moutput\u001b[0m \u001b[1;33m=\u001b[0m \u001b[0mget_notebook_iframe_src\u001b[0m\u001b[1;33m(\u001b[0m\u001b[0mconfig\u001b[0m\u001b[1;33m,\u001b[0m \u001b[0mprofile\u001b[0m\u001b[1;33m)\u001b[0m\u001b[1;33m\u001b[0m\u001b[1;33m\u001b[0m\u001b[0m\n\u001b[0;32m     74\u001b[0m     \u001b[1;32melif\u001b[0m \u001b[0mattribute\u001b[0m \u001b[1;33m==\u001b[0m \u001b[0mIframeAttribute\u001b[0m\u001b[1;33m.\u001b[0m\u001b[0msrcdoc\u001b[0m\u001b[1;33m:\u001b[0m\u001b[1;33m\u001b[0m\u001b[1;33m\u001b[0m\u001b[0m\n\u001b[1;32m---> 75\u001b[1;33m         \u001b[0moutput\u001b[0m \u001b[1;33m=\u001b[0m \u001b[0mget_notebook_iframe_srcdoc\u001b[0m\u001b[1;33m(\u001b[0m\u001b[0mconfig\u001b[0m\u001b[1;33m,\u001b[0m \u001b[0mprofile\u001b[0m\u001b[1;33m)\u001b[0m\u001b[1;33m\u001b[0m\u001b[1;33m\u001b[0m\u001b[0m\n\u001b[0m\u001b[0;32m     76\u001b[0m     \u001b[1;32melse\u001b[0m\u001b[1;33m:\u001b[0m\u001b[1;33m\u001b[0m\u001b[1;33m\u001b[0m\u001b[0m\n\u001b[0;32m     77\u001b[0m         raise ValueError(\n",
      "\u001b[1;32m~\\AppData\\Roaming\\Python\\Python38\\site-packages\\pandas_profiling\\report\\presentation\\flavours\\widget\\notebook.py\u001b[0m in \u001b[0;36mget_notebook_iframe_srcdoc\u001b[1;34m(config, profile)\u001b[0m\n\u001b[0;32m     27\u001b[0m     \u001b[0mwidth\u001b[0m \u001b[1;33m=\u001b[0m \u001b[0mconfig\u001b[0m\u001b[1;33m.\u001b[0m\u001b[0mnotebook\u001b[0m\u001b[1;33m.\u001b[0m\u001b[0miframe\u001b[0m\u001b[1;33m.\u001b[0m\u001b[0mwidth\u001b[0m\u001b[1;33m\u001b[0m\u001b[1;33m\u001b[0m\u001b[0m\n\u001b[0;32m     28\u001b[0m     \u001b[0mheight\u001b[0m \u001b[1;33m=\u001b[0m \u001b[0mconfig\u001b[0m\u001b[1;33m.\u001b[0m\u001b[0mnotebook\u001b[0m\u001b[1;33m.\u001b[0m\u001b[0miframe\u001b[0m\u001b[1;33m.\u001b[0m\u001b[0mheight\u001b[0m\u001b[1;33m\u001b[0m\u001b[1;33m\u001b[0m\u001b[0m\n\u001b[1;32m---> 29\u001b[1;33m     \u001b[0msrc\u001b[0m \u001b[1;33m=\u001b[0m \u001b[0mhtml\u001b[0m\u001b[1;33m.\u001b[0m\u001b[0mescape\u001b[0m\u001b[1;33m(\u001b[0m\u001b[0mprofile\u001b[0m\u001b[1;33m.\u001b[0m\u001b[0mto_html\u001b[0m\u001b[1;33m(\u001b[0m\u001b[1;33m)\u001b[0m\u001b[1;33m)\u001b[0m\u001b[1;33m\u001b[0m\u001b[1;33m\u001b[0m\u001b[0m\n\u001b[0m\u001b[0;32m     30\u001b[0m \u001b[1;33m\u001b[0m\u001b[0m\n\u001b[0;32m     31\u001b[0m     \u001b[0miframe\u001b[0m \u001b[1;33m=\u001b[0m \u001b[1;34mf'<iframe width=\"{width}\" height=\"{height}\" srcdoc=\"{src}\" frameborder=\"0\" allowfullscreen></iframe>'\u001b[0m\u001b[1;33m\u001b[0m\u001b[1;33m\u001b[0m\u001b[0m\n",
      "\u001b[1;32m~\\AppData\\Roaming\\Python\\Python38\\site-packages\\pandas_profiling\\profile_report.py\u001b[0m in \u001b[0;36mto_html\u001b[1;34m(self)\u001b[0m\n\u001b[0;32m    366\u001b[0m \u001b[1;33m\u001b[0m\u001b[0m\n\u001b[0;32m    367\u001b[0m         \"\"\"\n\u001b[1;32m--> 368\u001b[1;33m         \u001b[1;32mreturn\u001b[0m \u001b[0mself\u001b[0m\u001b[1;33m.\u001b[0m\u001b[0mhtml\u001b[0m\u001b[1;33m\u001b[0m\u001b[1;33m\u001b[0m\u001b[0m\n\u001b[0m\u001b[0;32m    369\u001b[0m \u001b[1;33m\u001b[0m\u001b[0m\n\u001b[0;32m    370\u001b[0m     \u001b[1;32mdef\u001b[0m \u001b[0mto_json\u001b[0m\u001b[1;33m(\u001b[0m\u001b[0mself\u001b[0m\u001b[1;33m)\u001b[0m \u001b[1;33m->\u001b[0m \u001b[0mstr\u001b[0m\u001b[1;33m:\u001b[0m\u001b[1;33m\u001b[0m\u001b[1;33m\u001b[0m\u001b[0m\n",
      "\u001b[1;32m~\\AppData\\Roaming\\Python\\Python38\\site-packages\\pandas_profiling\\profile_report.py\u001b[0m in \u001b[0;36mhtml\u001b[1;34m(self)\u001b[0m\n\u001b[0;32m    183\u001b[0m     \u001b[1;32mdef\u001b[0m \u001b[0mhtml\u001b[0m\u001b[1;33m(\u001b[0m\u001b[0mself\u001b[0m\u001b[1;33m)\u001b[0m \u001b[1;33m->\u001b[0m \u001b[0mstr\u001b[0m\u001b[1;33m:\u001b[0m\u001b[1;33m\u001b[0m\u001b[1;33m\u001b[0m\u001b[0m\n\u001b[0;32m    184\u001b[0m         \u001b[1;32mif\u001b[0m \u001b[0mself\u001b[0m\u001b[1;33m.\u001b[0m\u001b[0m_html\u001b[0m \u001b[1;32mis\u001b[0m \u001b[1;32mNone\u001b[0m\u001b[1;33m:\u001b[0m\u001b[1;33m\u001b[0m\u001b[1;33m\u001b[0m\u001b[0m\n\u001b[1;32m--> 185\u001b[1;33m             \u001b[0mself\u001b[0m\u001b[1;33m.\u001b[0m\u001b[0m_html\u001b[0m \u001b[1;33m=\u001b[0m \u001b[0mself\u001b[0m\u001b[1;33m.\u001b[0m\u001b[0m_render_html\u001b[0m\u001b[1;33m(\u001b[0m\u001b[1;33m)\u001b[0m\u001b[1;33m\u001b[0m\u001b[1;33m\u001b[0m\u001b[0m\n\u001b[0m\u001b[0;32m    186\u001b[0m         \u001b[1;32mreturn\u001b[0m \u001b[0mself\u001b[0m\u001b[1;33m.\u001b[0m\u001b[0m_html\u001b[0m\u001b[1;33m\u001b[0m\u001b[1;33m\u001b[0m\u001b[0m\n\u001b[0;32m    187\u001b[0m \u001b[1;33m\u001b[0m\u001b[0m\n",
      "\u001b[1;32m~\\AppData\\Roaming\\Python\\Python38\\site-packages\\pandas_profiling\\profile_report.py\u001b[0m in \u001b[0;36m_render_html\u001b[1;34m(self)\u001b[0m\n\u001b[0;32m    285\u001b[0m         \u001b[1;32mfrom\u001b[0m \u001b[0mpandas_profiling\u001b[0m\u001b[1;33m.\u001b[0m\u001b[0mreport\u001b[0m\u001b[1;33m.\u001b[0m\u001b[0mpresentation\u001b[0m\u001b[1;33m.\u001b[0m\u001b[0mflavours\u001b[0m \u001b[1;32mimport\u001b[0m \u001b[0mHTMLReport\u001b[0m\u001b[1;33m\u001b[0m\u001b[1;33m\u001b[0m\u001b[0m\n\u001b[0;32m    286\u001b[0m \u001b[1;33m\u001b[0m\u001b[0m\n\u001b[1;32m--> 287\u001b[1;33m         \u001b[0mreport\u001b[0m \u001b[1;33m=\u001b[0m \u001b[0mself\u001b[0m\u001b[1;33m.\u001b[0m\u001b[0mreport\u001b[0m\u001b[1;33m\u001b[0m\u001b[1;33m\u001b[0m\u001b[0m\n\u001b[0m\u001b[0;32m    288\u001b[0m \u001b[1;33m\u001b[0m\u001b[0m\n\u001b[0;32m    289\u001b[0m         with tqdm(\n",
      "\u001b[1;32m~\\AppData\\Roaming\\Python\\Python38\\site-packages\\pandas_profiling\\profile_report.py\u001b[0m in \u001b[0;36mreport\u001b[1;34m(self)\u001b[0m\n\u001b[0;32m    177\u001b[0m     \u001b[1;32mdef\u001b[0m \u001b[0mreport\u001b[0m\u001b[1;33m(\u001b[0m\u001b[0mself\u001b[0m\u001b[1;33m)\u001b[0m \u001b[1;33m->\u001b[0m \u001b[0mRoot\u001b[0m\u001b[1;33m:\u001b[0m\u001b[1;33m\u001b[0m\u001b[1;33m\u001b[0m\u001b[0m\n\u001b[0;32m    178\u001b[0m         \u001b[1;32mif\u001b[0m \u001b[0mself\u001b[0m\u001b[1;33m.\u001b[0m\u001b[0m_report\u001b[0m \u001b[1;32mis\u001b[0m \u001b[1;32mNone\u001b[0m\u001b[1;33m:\u001b[0m\u001b[1;33m\u001b[0m\u001b[1;33m\u001b[0m\u001b[0m\n\u001b[1;32m--> 179\u001b[1;33m             \u001b[0mself\u001b[0m\u001b[1;33m.\u001b[0m\u001b[0m_report\u001b[0m \u001b[1;33m=\u001b[0m \u001b[0mget_report_structure\u001b[0m\u001b[1;33m(\u001b[0m\u001b[0mself\u001b[0m\u001b[1;33m.\u001b[0m\u001b[0mconfig\u001b[0m\u001b[1;33m,\u001b[0m \u001b[0mself\u001b[0m\u001b[1;33m.\u001b[0m\u001b[0mdescription_set\u001b[0m\u001b[1;33m)\u001b[0m\u001b[1;33m\u001b[0m\u001b[1;33m\u001b[0m\u001b[0m\n\u001b[0m\u001b[0;32m    180\u001b[0m         \u001b[1;32mreturn\u001b[0m \u001b[0mself\u001b[0m\u001b[1;33m.\u001b[0m\u001b[0m_report\u001b[0m\u001b[1;33m\u001b[0m\u001b[1;33m\u001b[0m\u001b[0m\n\u001b[0;32m    181\u001b[0m \u001b[1;33m\u001b[0m\u001b[0m\n",
      "\u001b[1;32m~\\AppData\\Roaming\\Python\\Python38\\site-packages\\pandas_profiling\\profile_report.py\u001b[0m in \u001b[0;36mdescription_set\u001b[1;34m(self)\u001b[0m\n\u001b[0;32m    159\u001b[0m     \u001b[1;32mdef\u001b[0m \u001b[0mdescription_set\u001b[0m\u001b[1;33m(\u001b[0m\u001b[0mself\u001b[0m\u001b[1;33m)\u001b[0m \u001b[1;33m->\u001b[0m \u001b[0mDict\u001b[0m\u001b[1;33m[\u001b[0m\u001b[0mstr\u001b[0m\u001b[1;33m,\u001b[0m \u001b[0mAny\u001b[0m\u001b[1;33m]\u001b[0m\u001b[1;33m:\u001b[0m\u001b[1;33m\u001b[0m\u001b[1;33m\u001b[0m\u001b[0m\n\u001b[0;32m    160\u001b[0m         \u001b[1;32mif\u001b[0m \u001b[0mself\u001b[0m\u001b[1;33m.\u001b[0m\u001b[0m_description_set\u001b[0m \u001b[1;32mis\u001b[0m \u001b[1;32mNone\u001b[0m\u001b[1;33m:\u001b[0m\u001b[1;33m\u001b[0m\u001b[1;33m\u001b[0m\u001b[0m\n\u001b[1;32m--> 161\u001b[1;33m             self._description_set = describe_df(\n\u001b[0m\u001b[0;32m    162\u001b[0m                 \u001b[0mself\u001b[0m\u001b[1;33m.\u001b[0m\u001b[0mconfig\u001b[0m\u001b[1;33m,\u001b[0m\u001b[1;33m\u001b[0m\u001b[1;33m\u001b[0m\u001b[0m\n\u001b[0;32m    163\u001b[0m                 \u001b[0mself\u001b[0m\u001b[1;33m.\u001b[0m\u001b[0mdf\u001b[0m\u001b[1;33m,\u001b[0m\u001b[1;33m\u001b[0m\u001b[1;33m\u001b[0m\u001b[0m\n",
      "\u001b[1;32m~\\AppData\\Roaming\\Python\\Python38\\site-packages\\pandas_profiling\\model\\describe.py\u001b[0m in \u001b[0;36mdescribe\u001b[1;34m(config, df, summarizer, typeset, sample)\u001b[0m\n\u001b[0;32m     93\u001b[0m         \u001b[0mpbar\u001b[0m\u001b[1;33m.\u001b[0m\u001b[0mtotal\u001b[0m \u001b[1;33m+=\u001b[0m \u001b[0mlen\u001b[0m\u001b[1;33m(\u001b[0m\u001b[0mcorrelation_names\u001b[0m\u001b[1;33m)\u001b[0m\u001b[1;33m\u001b[0m\u001b[1;33m\u001b[0m\u001b[0m\n\u001b[0;32m     94\u001b[0m \u001b[1;33m\u001b[0m\u001b[0m\n\u001b[1;32m---> 95\u001b[1;33m         correlations = {\n\u001b[0m\u001b[0;32m     96\u001b[0m             correlation_name: progress(\n\u001b[0;32m     97\u001b[0m                 \u001b[0mcalculate_correlation\u001b[0m\u001b[1;33m,\u001b[0m \u001b[0mpbar\u001b[0m\u001b[1;33m,\u001b[0m \u001b[1;34mf\"Calculate {correlation_name} correlation\"\u001b[0m\u001b[1;33m\u001b[0m\u001b[1;33m\u001b[0m\u001b[0m\n",
      "\u001b[1;32m~\\AppData\\Roaming\\Python\\Python38\\site-packages\\pandas_profiling\\model\\describe.py\u001b[0m in \u001b[0;36m<dictcomp>\u001b[1;34m(.0)\u001b[0m\n\u001b[0;32m     94\u001b[0m \u001b[1;33m\u001b[0m\u001b[0m\n\u001b[0;32m     95\u001b[0m         correlations = {\n\u001b[1;32m---> 96\u001b[1;33m             correlation_name: progress(\n\u001b[0m\u001b[0;32m     97\u001b[0m                 \u001b[0mcalculate_correlation\u001b[0m\u001b[1;33m,\u001b[0m \u001b[0mpbar\u001b[0m\u001b[1;33m,\u001b[0m \u001b[1;34mf\"Calculate {correlation_name} correlation\"\u001b[0m\u001b[1;33m\u001b[0m\u001b[1;33m\u001b[0m\u001b[0m\n\u001b[0;32m     98\u001b[0m             )(config, df, correlation_name, series_description)\n",
      "\u001b[1;32m~\\AppData\\Roaming\\Python\\Python38\\site-packages\\pandas_profiling\\utils\\progress_bar.py\u001b[0m in \u001b[0;36minner\u001b[1;34m(*args, **kwargs)\u001b[0m\n\u001b[0;32m      9\u001b[0m     \u001b[1;32mdef\u001b[0m \u001b[0minner\u001b[0m\u001b[1;33m(\u001b[0m\u001b[1;33m*\u001b[0m\u001b[0margs\u001b[0m\u001b[1;33m,\u001b[0m \u001b[1;33m**\u001b[0m\u001b[0mkwargs\u001b[0m\u001b[1;33m)\u001b[0m \u001b[1;33m->\u001b[0m \u001b[0mAny\u001b[0m\u001b[1;33m:\u001b[0m\u001b[1;33m\u001b[0m\u001b[1;33m\u001b[0m\u001b[0m\n\u001b[0;32m     10\u001b[0m         \u001b[0mbar\u001b[0m\u001b[1;33m.\u001b[0m\u001b[0mset_postfix_str\u001b[0m\u001b[1;33m(\u001b[0m\u001b[0mmessage\u001b[0m\u001b[1;33m)\u001b[0m\u001b[1;33m\u001b[0m\u001b[1;33m\u001b[0m\u001b[0m\n\u001b[1;32m---> 11\u001b[1;33m         \u001b[0mret\u001b[0m \u001b[1;33m=\u001b[0m \u001b[0mfn\u001b[0m\u001b[1;33m(\u001b[0m\u001b[1;33m*\u001b[0m\u001b[0margs\u001b[0m\u001b[1;33m,\u001b[0m \u001b[1;33m**\u001b[0m\u001b[0mkwargs\u001b[0m\u001b[1;33m)\u001b[0m\u001b[1;33m\u001b[0m\u001b[1;33m\u001b[0m\u001b[0m\n\u001b[0m\u001b[0;32m     12\u001b[0m         \u001b[0mbar\u001b[0m\u001b[1;33m.\u001b[0m\u001b[0mupdate\u001b[0m\u001b[1;33m(\u001b[0m\u001b[1;33m)\u001b[0m\u001b[1;33m\u001b[0m\u001b[1;33m\u001b[0m\u001b[0m\n\u001b[0;32m     13\u001b[0m         \u001b[1;32mreturn\u001b[0m \u001b[0mret\u001b[0m\u001b[1;33m\u001b[0m\u001b[1;33m\u001b[0m\u001b[0m\n",
      "\u001b[1;32m~\\AppData\\Roaming\\Python\\Python38\\site-packages\\pandas_profiling\\model\\correlations.py\u001b[0m in \u001b[0;36mcalculate_correlation\u001b[1;34m(config, df, correlation_name, summary)\u001b[0m\n\u001b[0;32m     92\u001b[0m     \u001b[0mcorrelation\u001b[0m \u001b[1;33m=\u001b[0m \u001b[1;32mNone\u001b[0m\u001b[1;33m\u001b[0m\u001b[1;33m\u001b[0m\u001b[0m\n\u001b[0;32m     93\u001b[0m     \u001b[1;32mtry\u001b[0m\u001b[1;33m:\u001b[0m\u001b[1;33m\u001b[0m\u001b[1;33m\u001b[0m\u001b[0m\n\u001b[1;32m---> 94\u001b[1;33m         correlation = correlation_measures[correlation_name].compute(\n\u001b[0m\u001b[0;32m     95\u001b[0m             \u001b[0mconfig\u001b[0m\u001b[1;33m,\u001b[0m \u001b[0mdf\u001b[0m\u001b[1;33m,\u001b[0m \u001b[0msummary\u001b[0m\u001b[1;33m\u001b[0m\u001b[1;33m\u001b[0m\u001b[0m\n\u001b[0;32m     96\u001b[0m         )\n",
      "\u001b[1;32m~\\anaconda3\\lib\\site-packages\\multimethod\\__init__.py\u001b[0m in \u001b[0;36m__call__\u001b[1;34m(self, *args, **kwargs)\u001b[0m\n\u001b[0;32m    298\u001b[0m         \u001b[0mfunc\u001b[0m \u001b[1;33m=\u001b[0m \u001b[0mself\u001b[0m\u001b[1;33m[\u001b[0m\u001b[0mtuple\u001b[0m\u001b[1;33m(\u001b[0m\u001b[0mfunc\u001b[0m\u001b[1;33m(\u001b[0m\u001b[0marg\u001b[0m\u001b[1;33m)\u001b[0m \u001b[1;32mfor\u001b[0m \u001b[0mfunc\u001b[0m\u001b[1;33m,\u001b[0m \u001b[0marg\u001b[0m \u001b[1;32min\u001b[0m \u001b[0mzip\u001b[0m\u001b[1;33m(\u001b[0m\u001b[0mself\u001b[0m\u001b[1;33m.\u001b[0m\u001b[0mtype_checkers\u001b[0m\u001b[1;33m,\u001b[0m \u001b[0margs\u001b[0m\u001b[1;33m)\u001b[0m\u001b[1;33m)\u001b[0m\u001b[1;33m]\u001b[0m\u001b[1;33m\u001b[0m\u001b[1;33m\u001b[0m\u001b[0m\n\u001b[0;32m    299\u001b[0m         \u001b[1;32mtry\u001b[0m\u001b[1;33m:\u001b[0m\u001b[1;33m\u001b[0m\u001b[1;33m\u001b[0m\u001b[0m\n\u001b[1;32m--> 300\u001b[1;33m             \u001b[1;32mreturn\u001b[0m \u001b[0mfunc\u001b[0m\u001b[1;33m(\u001b[0m\u001b[1;33m*\u001b[0m\u001b[0margs\u001b[0m\u001b[1;33m,\u001b[0m \u001b[1;33m**\u001b[0m\u001b[0mkwargs\u001b[0m\u001b[1;33m)\u001b[0m\u001b[1;33m\u001b[0m\u001b[1;33m\u001b[0m\u001b[0m\n\u001b[0m\u001b[0;32m    301\u001b[0m         \u001b[1;32mexcept\u001b[0m \u001b[0mTypeError\u001b[0m \u001b[1;32mas\u001b[0m \u001b[0mex\u001b[0m\u001b[1;33m:\u001b[0m\u001b[1;33m\u001b[0m\u001b[1;33m\u001b[0m\u001b[0m\n\u001b[0;32m    302\u001b[0m             \u001b[1;32mraise\u001b[0m \u001b[0mDispatchError\u001b[0m\u001b[1;33m(\u001b[0m\u001b[1;34mf\"Function {func.__code__}\"\u001b[0m\u001b[1;33m)\u001b[0m \u001b[1;32mfrom\u001b[0m \u001b[0mex\u001b[0m\u001b[1;33m\u001b[0m\u001b[1;33m\u001b[0m\u001b[0m\n",
      "\u001b[1;32m~\\AppData\\Roaming\\Python\\Python38\\site-packages\\pandas_profiling\\model\\pandas\\correlations_pandas.py\u001b[0m in \u001b[0;36mpandas_phik_compute\u001b[1;34m(config, df, summary)\u001b[0m\n\u001b[0;32m    132\u001b[0m         \u001b[1;32mfrom\u001b[0m \u001b[0mphik\u001b[0m \u001b[1;32mimport\u001b[0m \u001b[0mphik_matrix\u001b[0m\u001b[1;33m\u001b[0m\u001b[1;33m\u001b[0m\u001b[0m\n\u001b[0;32m    133\u001b[0m \u001b[1;33m\u001b[0m\u001b[0m\n\u001b[1;32m--> 134\u001b[1;33m         \u001b[0mcorrelation\u001b[0m \u001b[1;33m=\u001b[0m \u001b[0mphik_matrix\u001b[0m\u001b[1;33m(\u001b[0m\u001b[0mdf\u001b[0m\u001b[1;33m[\u001b[0m\u001b[0mselected_cols\u001b[0m\u001b[1;33m]\u001b[0m\u001b[1;33m,\u001b[0m \u001b[0minterval_cols\u001b[0m\u001b[1;33m=\u001b[0m\u001b[0mlist\u001b[0m\u001b[1;33m(\u001b[0m\u001b[0mintcols\u001b[0m\u001b[1;33m)\u001b[0m\u001b[1;33m)\u001b[0m\u001b[1;33m\u001b[0m\u001b[1;33m\u001b[0m\u001b[0m\n\u001b[0m\u001b[0;32m    135\u001b[0m \u001b[1;33m\u001b[0m\u001b[0m\n\u001b[0;32m    136\u001b[0m     \u001b[1;32mreturn\u001b[0m \u001b[0mcorrelation\u001b[0m\u001b[1;33m\u001b[0m\u001b[1;33m\u001b[0m\u001b[0m\n",
      "\u001b[1;32m~\\AppData\\Roaming\\Python\\Python38\\site-packages\\phik\\phik.py\u001b[0m in \u001b[0;36mphik_matrix\u001b[1;34m(df, interval_cols, bins, quantile, noise_correction, dropna, drop_underflow, drop_overflow, verbose, njobs)\u001b[0m\n\u001b[0;32m    254\u001b[0m         \u001b[0mverbose\u001b[0m\u001b[1;33m=\u001b[0m\u001b[0mverbose\u001b[0m\u001b[1;33m,\u001b[0m\u001b[1;33m\u001b[0m\u001b[1;33m\u001b[0m\u001b[0m\n\u001b[0;32m    255\u001b[0m     )\n\u001b[1;32m--> 256\u001b[1;33m     return phik_from_rebinned_df(\n\u001b[0m\u001b[0;32m    257\u001b[0m         \u001b[0mdata_binned\u001b[0m\u001b[1;33m,\u001b[0m\u001b[1;33m\u001b[0m\u001b[1;33m\u001b[0m\u001b[0m\n\u001b[0;32m    258\u001b[0m         \u001b[0mnoise_correction\u001b[0m\u001b[1;33m,\u001b[0m\u001b[1;33m\u001b[0m\u001b[1;33m\u001b[0m\u001b[0m\n",
      "\u001b[1;32m~\\AppData\\Roaming\\Python\\Python38\\site-packages\\phik\\phik.py\u001b[0m in \u001b[0;36mphik_from_rebinned_df\u001b[1;34m(data_binned, noise_correction, dropna, drop_underflow, drop_overflow, njobs)\u001b[0m\n\u001b[0;32m    164\u001b[0m         ]\n\u001b[0;32m    165\u001b[0m     \u001b[1;32melse\u001b[0m\u001b[1;33m:\u001b[0m\u001b[1;33m\u001b[0m\u001b[1;33m\u001b[0m\u001b[0m\n\u001b[1;32m--> 166\u001b[1;33m         phik_list = Parallel(n_jobs=njobs)(\n\u001b[0m\u001b[0;32m    167\u001b[0m             \u001b[0mdelayed\u001b[0m\u001b[1;33m(\u001b[0m\u001b[0m_calc_phik\u001b[0m\u001b[1;33m)\u001b[0m\u001b[1;33m(\u001b[0m\u001b[0mco\u001b[0m\u001b[1;33m,\u001b[0m \u001b[0mdata_binned\u001b[0m\u001b[1;33m[\u001b[0m\u001b[0mlist\u001b[0m\u001b[1;33m(\u001b[0m\u001b[0mco\u001b[0m\u001b[1;33m)\u001b[0m\u001b[1;33m]\u001b[0m\u001b[1;33m,\u001b[0m \u001b[0mnoise_correction\u001b[0m\u001b[1;33m)\u001b[0m\u001b[1;33m\u001b[0m\u001b[1;33m\u001b[0m\u001b[0m\n\u001b[0;32m    168\u001b[0m             for co in itertools.combinations_with_replacement(\n",
      "\u001b[1;32m~\\anaconda3\\lib\\site-packages\\joblib\\parallel.py\u001b[0m in \u001b[0;36m__call__\u001b[1;34m(self, iterable)\u001b[0m\n\u001b[0;32m   1052\u001b[0m \u001b[1;33m\u001b[0m\u001b[0m\n\u001b[0;32m   1053\u001b[0m             \u001b[1;32mwith\u001b[0m \u001b[0mself\u001b[0m\u001b[1;33m.\u001b[0m\u001b[0m_backend\u001b[0m\u001b[1;33m.\u001b[0m\u001b[0mretrieval_context\u001b[0m\u001b[1;33m(\u001b[0m\u001b[1;33m)\u001b[0m\u001b[1;33m:\u001b[0m\u001b[1;33m\u001b[0m\u001b[1;33m\u001b[0m\u001b[0m\n\u001b[1;32m-> 1054\u001b[1;33m                 \u001b[0mself\u001b[0m\u001b[1;33m.\u001b[0m\u001b[0mretrieve\u001b[0m\u001b[1;33m(\u001b[0m\u001b[1;33m)\u001b[0m\u001b[1;33m\u001b[0m\u001b[1;33m\u001b[0m\u001b[0m\n\u001b[0m\u001b[0;32m   1055\u001b[0m             \u001b[1;31m# Make sure that we get a last message telling us we are done\u001b[0m\u001b[1;33m\u001b[0m\u001b[1;33m\u001b[0m\u001b[1;33m\u001b[0m\u001b[0m\n\u001b[0;32m   1056\u001b[0m             \u001b[0melapsed_time\u001b[0m \u001b[1;33m=\u001b[0m \u001b[0mtime\u001b[0m\u001b[1;33m.\u001b[0m\u001b[0mtime\u001b[0m\u001b[1;33m(\u001b[0m\u001b[1;33m)\u001b[0m \u001b[1;33m-\u001b[0m \u001b[0mself\u001b[0m\u001b[1;33m.\u001b[0m\u001b[0m_start_time\u001b[0m\u001b[1;33m\u001b[0m\u001b[1;33m\u001b[0m\u001b[0m\n",
      "\u001b[1;32m~\\anaconda3\\lib\\site-packages\\joblib\\parallel.py\u001b[0m in \u001b[0;36mretrieve\u001b[1;34m(self)\u001b[0m\n\u001b[0;32m    931\u001b[0m             \u001b[1;32mtry\u001b[0m\u001b[1;33m:\u001b[0m\u001b[1;33m\u001b[0m\u001b[1;33m\u001b[0m\u001b[0m\n\u001b[0;32m    932\u001b[0m                 \u001b[1;32mif\u001b[0m \u001b[0mgetattr\u001b[0m\u001b[1;33m(\u001b[0m\u001b[0mself\u001b[0m\u001b[1;33m.\u001b[0m\u001b[0m_backend\u001b[0m\u001b[1;33m,\u001b[0m \u001b[1;34m'supports_timeout'\u001b[0m\u001b[1;33m,\u001b[0m \u001b[1;32mFalse\u001b[0m\u001b[1;33m)\u001b[0m\u001b[1;33m:\u001b[0m\u001b[1;33m\u001b[0m\u001b[1;33m\u001b[0m\u001b[0m\n\u001b[1;32m--> 933\u001b[1;33m                     \u001b[0mself\u001b[0m\u001b[1;33m.\u001b[0m\u001b[0m_output\u001b[0m\u001b[1;33m.\u001b[0m\u001b[0mextend\u001b[0m\u001b[1;33m(\u001b[0m\u001b[0mjob\u001b[0m\u001b[1;33m.\u001b[0m\u001b[0mget\u001b[0m\u001b[1;33m(\u001b[0m\u001b[0mtimeout\u001b[0m\u001b[1;33m=\u001b[0m\u001b[0mself\u001b[0m\u001b[1;33m.\u001b[0m\u001b[0mtimeout\u001b[0m\u001b[1;33m)\u001b[0m\u001b[1;33m)\u001b[0m\u001b[1;33m\u001b[0m\u001b[1;33m\u001b[0m\u001b[0m\n\u001b[0m\u001b[0;32m    934\u001b[0m                 \u001b[1;32melse\u001b[0m\u001b[1;33m:\u001b[0m\u001b[1;33m\u001b[0m\u001b[1;33m\u001b[0m\u001b[0m\n\u001b[0;32m    935\u001b[0m                     \u001b[0mself\u001b[0m\u001b[1;33m.\u001b[0m\u001b[0m_output\u001b[0m\u001b[1;33m.\u001b[0m\u001b[0mextend\u001b[0m\u001b[1;33m(\u001b[0m\u001b[0mjob\u001b[0m\u001b[1;33m.\u001b[0m\u001b[0mget\u001b[0m\u001b[1;33m(\u001b[0m\u001b[1;33m)\u001b[0m\u001b[1;33m)\u001b[0m\u001b[1;33m\u001b[0m\u001b[1;33m\u001b[0m\u001b[0m\n",
      "\u001b[1;32m~\\anaconda3\\lib\\site-packages\\joblib\\_parallel_backends.py\u001b[0m in \u001b[0;36mwrap_future_result\u001b[1;34m(future, timeout)\u001b[0m\n\u001b[0;32m    540\u001b[0m         AsyncResults.get from multiprocessing.\"\"\"\n\u001b[0;32m    541\u001b[0m         \u001b[1;32mtry\u001b[0m\u001b[1;33m:\u001b[0m\u001b[1;33m\u001b[0m\u001b[1;33m\u001b[0m\u001b[0m\n\u001b[1;32m--> 542\u001b[1;33m             \u001b[1;32mreturn\u001b[0m \u001b[0mfuture\u001b[0m\u001b[1;33m.\u001b[0m\u001b[0mresult\u001b[0m\u001b[1;33m(\u001b[0m\u001b[0mtimeout\u001b[0m\u001b[1;33m=\u001b[0m\u001b[0mtimeout\u001b[0m\u001b[1;33m)\u001b[0m\u001b[1;33m\u001b[0m\u001b[1;33m\u001b[0m\u001b[0m\n\u001b[0m\u001b[0;32m    543\u001b[0m         \u001b[1;32mexcept\u001b[0m \u001b[0mCfTimeoutError\u001b[0m \u001b[1;32mas\u001b[0m \u001b[0me\u001b[0m\u001b[1;33m:\u001b[0m\u001b[1;33m\u001b[0m\u001b[1;33m\u001b[0m\u001b[0m\n\u001b[0;32m    544\u001b[0m             \u001b[1;32mraise\u001b[0m \u001b[0mTimeoutError\u001b[0m \u001b[1;32mfrom\u001b[0m \u001b[0me\u001b[0m\u001b[1;33m\u001b[0m\u001b[1;33m\u001b[0m\u001b[0m\n",
      "\u001b[1;32m~\\anaconda3\\lib\\concurrent\\futures\\_base.py\u001b[0m in \u001b[0;36mresult\u001b[1;34m(self, timeout)\u001b[0m\n\u001b[0;32m    432\u001b[0m                 \u001b[1;32mreturn\u001b[0m \u001b[0mself\u001b[0m\u001b[1;33m.\u001b[0m\u001b[0m__get_result\u001b[0m\u001b[1;33m(\u001b[0m\u001b[1;33m)\u001b[0m\u001b[1;33m\u001b[0m\u001b[1;33m\u001b[0m\u001b[0m\n\u001b[0;32m    433\u001b[0m \u001b[1;33m\u001b[0m\u001b[0m\n\u001b[1;32m--> 434\u001b[1;33m             \u001b[0mself\u001b[0m\u001b[1;33m.\u001b[0m\u001b[0m_condition\u001b[0m\u001b[1;33m.\u001b[0m\u001b[0mwait\u001b[0m\u001b[1;33m(\u001b[0m\u001b[0mtimeout\u001b[0m\u001b[1;33m)\u001b[0m\u001b[1;33m\u001b[0m\u001b[1;33m\u001b[0m\u001b[0m\n\u001b[0m\u001b[0;32m    435\u001b[0m \u001b[1;33m\u001b[0m\u001b[0m\n\u001b[0;32m    436\u001b[0m             \u001b[1;32mif\u001b[0m \u001b[0mself\u001b[0m\u001b[1;33m.\u001b[0m\u001b[0m_state\u001b[0m \u001b[1;32min\u001b[0m \u001b[1;33m[\u001b[0m\u001b[0mCANCELLED\u001b[0m\u001b[1;33m,\u001b[0m \u001b[0mCANCELLED_AND_NOTIFIED\u001b[0m\u001b[1;33m]\u001b[0m\u001b[1;33m:\u001b[0m\u001b[1;33m\u001b[0m\u001b[1;33m\u001b[0m\u001b[0m\n",
      "\u001b[1;32m~\\anaconda3\\lib\\threading.py\u001b[0m in \u001b[0;36mwait\u001b[1;34m(self, timeout)\u001b[0m\n\u001b[0;32m    300\u001b[0m         \u001b[1;32mtry\u001b[0m\u001b[1;33m:\u001b[0m    \u001b[1;31m# restore state no matter what (e.g., KeyboardInterrupt)\u001b[0m\u001b[1;33m\u001b[0m\u001b[1;33m\u001b[0m\u001b[0m\n\u001b[0;32m    301\u001b[0m             \u001b[1;32mif\u001b[0m \u001b[0mtimeout\u001b[0m \u001b[1;32mis\u001b[0m \u001b[1;32mNone\u001b[0m\u001b[1;33m:\u001b[0m\u001b[1;33m\u001b[0m\u001b[1;33m\u001b[0m\u001b[0m\n\u001b[1;32m--> 302\u001b[1;33m                 \u001b[0mwaiter\u001b[0m\u001b[1;33m.\u001b[0m\u001b[0macquire\u001b[0m\u001b[1;33m(\u001b[0m\u001b[1;33m)\u001b[0m\u001b[1;33m\u001b[0m\u001b[1;33m\u001b[0m\u001b[0m\n\u001b[0m\u001b[0;32m    303\u001b[0m                 \u001b[0mgotit\u001b[0m \u001b[1;33m=\u001b[0m \u001b[1;32mTrue\u001b[0m\u001b[1;33m\u001b[0m\u001b[1;33m\u001b[0m\u001b[0m\n\u001b[0;32m    304\u001b[0m             \u001b[1;32melse\u001b[0m\u001b[1;33m:\u001b[0m\u001b[1;33m\u001b[0m\u001b[1;33m\u001b[0m\u001b[0m\n",
      "\u001b[1;31mKeyboardInterrupt\u001b[0m: "
     ]
    }
   ],
   "source": [
    "profile"
   ]
  },
  {
   "cell_type": "markdown",
   "id": "3eed276c",
   "metadata": {},
   "source": [
    "## Begin with EDA"
   ]
  },
  {
   "cell_type": "code",
   "execution_count": 3,
   "id": "7f7cb660",
   "metadata": {},
   "outputs": [
    {
     "data": {
      "text/plain": [
       "(891, 12)"
      ]
     },
     "execution_count": 3,
     "metadata": {},
     "output_type": "execute_result"
    }
   ],
   "source": [
    "#no. of colums and rows\n",
    "dt.shape"
   ]
  },
  {
   "cell_type": "code",
   "execution_count": 4,
   "id": "6b344466",
   "metadata": {},
   "outputs": [
    {
     "name": "stdout",
     "output_type": "stream",
     "text": [
      "<class 'pandas.core.frame.DataFrame'>\n",
      "RangeIndex: 891 entries, 0 to 890\n",
      "Data columns (total 12 columns):\n",
      " #   Column       Non-Null Count  Dtype  \n",
      "---  ------       --------------  -----  \n",
      " 0   PassengerId  891 non-null    int64  \n",
      " 1   Survived     891 non-null    int64  \n",
      " 2   Pclass       891 non-null    int64  \n",
      " 3   Name         891 non-null    object \n",
      " 4   Sex          891 non-null    object \n",
      " 5   Age          714 non-null    float64\n",
      " 6   SibSp        891 non-null    int64  \n",
      " 7   Parch        891 non-null    int64  \n",
      " 8   Ticket       891 non-null    object \n",
      " 9   Fare         891 non-null    float64\n",
      " 10  Cabin        204 non-null    object \n",
      " 11  Embarked     889 non-null    object \n",
      "dtypes: float64(2), int64(5), object(5)\n",
      "memory usage: 83.7+ KB\n"
     ]
    }
   ],
   "source": [
    "#check for non-null values of each column and their datatypes\n",
    "dt.info()"
   ]
  },
  {
   "cell_type": "raw",
   "id": "bc95676c",
   "metadata": {},
   "source": [
    "Some missing values in 'Age','Cabin','Embarked'\n",
    "Float values in 'Age','Fare'. Will convert them to object"
   ]
  },
  {
   "cell_type": "code",
   "execution_count": 5,
   "id": "e4b00a2d",
   "metadata": {},
   "outputs": [
    {
     "data": {
      "text/plain": [
       "PassengerId      0\n",
       "Survived         0\n",
       "Pclass           0\n",
       "Name             0\n",
       "Sex              0\n",
       "Age            177\n",
       "SibSp            0\n",
       "Parch            0\n",
       "Ticket           0\n",
       "Fare             0\n",
       "Cabin          687\n",
       "Embarked         2\n",
       "dtype: int64"
      ]
     },
     "execution_count": 5,
     "metadata": {},
     "output_type": "execute_result"
    }
   ],
   "source": [
    "#any missing values?\n",
    "dt.isnull().sum()"
   ]
  },
  {
   "cell_type": "raw",
   "id": "29c56354",
   "metadata": {},
   "source": [
    "'Cabin' - most of the values are missing. So, we can remove the column during preprocessing\n",
    "'Age' - will have to replace with mean value\n",
    "'EMbarked' - fill missings with mean of the column"
   ]
  },
  {
   "cell_type": "code",
   "execution_count": null,
   "id": "58efae2f",
   "metadata": {},
   "outputs": [],
   "source": []
  },
  {
   "cell_type": "code",
   "execution_count": 6,
   "id": "7c8d1d0a",
   "metadata": {
    "scrolled": true
   },
   "outputs": [
    {
     "data": {
      "text/plain": [
       "<AxesSubplot:>"
      ]
     },
     "execution_count": 6,
     "metadata": {},
     "output_type": "execute_result"
    },
    {
     "data": {
      "image/png": "[encoded data removed]",
      "text/plain": [
       "<Figure size 432x288 with 2 Axes>"
      ]
     },
     "metadata": {
      "needs_background": "light"
     },
     "output_type": "display_data"
    }
   ],
   "source": [
    "sns.heatmap(dt.isnull())"
   ]
  },
  {
   "cell_type": "raw",
   "id": "fb67aeeb",
   "metadata": {},
   "source": [
    "From heatmap, we can see that at interval of every 43 data, on average 2 data are missing in Age\n",
    "While in Cabin, over 80% of data are missing"
   ]
  },
  {
   "cell_type": "code",
   "execution_count": 7,
   "id": "d941bbb7",
   "metadata": {},
   "outputs": [
    {
     "name": "stdout",
     "output_type": "stream",
     "text": [
      "Unique Values in gender:\n",
      " ['male' 'female']\n",
      "Unique Values in pclass:\n",
      " [3 1 2]\n",
      "Unique Values in sibsp:\n",
      " [1 0 3 4 2 5 8]\n",
      "Unique Values in age:\n",
      " [22.   38.   26.   35.     nan 54.    2.   27.   14.    4.   58.   20.\n",
      " 39.   55.   31.   34.   15.   28.    8.   19.   40.   66.   42.   21.\n",
      " 18.    3.    7.   49.   29.   65.   28.5   5.   11.   45.   17.   32.\n",
      " 16.   25.    0.83 30.   33.   23.   24.   46.   59.   71.   37.   47.\n",
      " 14.5  70.5  32.5  12.    9.   36.5  51.   55.5  40.5  44.    1.   61.\n",
      " 56.   50.   36.   45.5  20.5  62.   41.   52.   63.   23.5   0.92 43.\n",
      " 60.   10.   64.   13.   48.    0.75 53.   57.   80.   70.   24.5   6.\n",
      "  0.67 30.5   0.42 34.5  74.  ]\n",
      "Unique Values in parch:\n",
      " [0 1 2 5 3 4 6]\n",
      "Unique Values in embarked\n",
      ": ['S' 'C' 'Q' nan]\n"
     ]
    }
   ],
   "source": [
    "print('Unique Values in gender:\\n', dt['Sex'].unique())\n",
    "print('Unique Values in pclass:\\n', dt['Pclass'].unique())\n",
    "print('Unique Values in sibsp:\\n', dt['SibSp'].unique())\n",
    "print('Unique Values in age:\\n', dt['Age'].unique())\n",
    "print('Unique Values in parch:\\n', dt['Parch'].unique())\n",
    "print('Unique Values in embarked\\n:', dt['Embarked'].unique())"
   ]
  },
  {
   "cell_type": "markdown",
   "id": "a59db663",
   "metadata": {},
   "source": [
    "### Univariate Visuals"
   ]
  },
  {
   "cell_type": "code",
   "execution_count": 8,
   "id": "24c7df18",
   "metadata": {
    "scrolled": true
   },
   "outputs": [
    {
     "data": {
      "text/plain": [
       "male      577\n",
       "female    314\n",
       "Name: Sex, dtype: int64"
      ]
     },
     "execution_count": 8,
     "metadata": {},
     "output_type": "execute_result"
    }
   ],
   "source": [
    "dt['Sex'].value_counts()"
   ]
  },
  {
   "cell_type": "markdown",
   "id": "35f43aaa",
   "metadata": {},
   "source": [
    "The proportion of male is higher compared to female. "
   ]
  },
  {
   "cell_type": "code",
   "execution_count": 9,
   "id": "f7d5d380",
   "metadata": {
    "scrolled": false
   },
   "outputs": [
    {
     "data": {
      "text/plain": [
       "<AxesSubplot:xlabel='Sex', ylabel='count'>"
      ]
     },
     "execution_count": 9,
     "metadata": {},
     "output_type": "execute_result"
    },
    {
     "data": {
      "image/png": "[encoded data removed]",
      "text/plain": [
       "<Figure size 432x288 with 1 Axes>"
      ]
     },
     "metadata": {
      "needs_background": "light"
     },
     "output_type": "display_data"
    }
   ],
   "source": [
    "sns.countplot(x = 'Sex', data = dt)"
   ]
  },
  {
   "cell_type": "code",
   "execution_count": 10,
   "id": "63079203",
   "metadata": {
    "scrolled": true
   },
   "outputs": [
    {
     "data": {
      "text/plain": [
       "3    491\n",
       "1    216\n",
       "2    184\n",
       "Name: Pclass, dtype: int64"
      ]
     },
     "execution_count": 10,
     "metadata": {},
     "output_type": "execute_result"
    }
   ],
   "source": [
    "dt['Pclass'].value_counts()"
   ]
  },
  {
   "cell_type": "markdown",
   "id": "7591e79e",
   "metadata": {},
   "source": [
    "More than 50% of passenger belongs to Class 3, ~25% to Class 1 and rest to Class 2"
   ]
  },
  {
   "cell_type": "code",
   "execution_count": 11,
   "id": "cca8de7a",
   "metadata": {},
   "outputs": [
    {
     "data": {
      "text/plain": [
       "<AxesSubplot:xlabel='Pclass', ylabel='count'>"
      ]
     },
     "execution_count": 11,
     "metadata": {},
     "output_type": "execute_result"
    },
    {
     "data": {
      "image/png": "[encoded data removed]",
      "text/plain": [
       "<Figure size 432x288 with 1 Axes>"
      ]
     },
     "metadata": {},
     "output_type": "display_data"
    }
   ],
   "source": [
    "sns.set_style('whitegrid')\n",
    "sns.countplot(x='Pclass', data=dt)"
   ]
  },
  {
   "cell_type": "code",
   "execution_count": 12,
   "id": "48ad4827",
   "metadata": {},
   "outputs": [
    {
     "data": {
      "text/plain": [
       "0    549\n",
       "1    342\n",
       "Name: Survived, dtype: int64"
      ]
     },
     "execution_count": 12,
     "metadata": {},
     "output_type": "execute_result"
    }
   ],
   "source": [
    "dt['Survived'].value_counts()"
   ]
  },
  {
   "cell_type": "markdown",
   "id": "52bace93",
   "metadata": {},
   "source": [
    "Nearly 66% passenger didn't survived"
   ]
  },
  {
   "cell_type": "code",
   "execution_count": 13,
   "id": "b6ef5d32",
   "metadata": {},
   "outputs": [
    {
     "data": {
      "text/plain": [
       "<AxesSubplot:xlabel='Survived', ylabel='count'>"
      ]
     },
     "execution_count": 13,
     "metadata": {},
     "output_type": "execute_result"
    },
    {
     "data": {
      "image/png": "[encoded data removed]",
      "text/plain": [
       "<Figure size 432x288 with 1 Axes>"
      ]
     },
     "metadata": {},
     "output_type": "display_data"
    }
   ],
   "source": [
    "sns.countplot(x='Survived', data = dt)"
   ]
  },
  {
   "cell_type": "code",
   "execution_count": 14,
   "id": "ba1aa401",
   "metadata": {},
   "outputs": [
    {
     "data": {
      "text/plain": [
       "0    608\n",
       "1    209\n",
       "2     28\n",
       "4     18\n",
       "3     16\n",
       "8      7\n",
       "5      5\n",
       "Name: SibSp, dtype: int64"
      ]
     },
     "execution_count": 14,
     "metadata": {},
     "output_type": "execute_result"
    }
   ],
   "source": [
    "dt['SibSp'].value_counts()"
   ]
  },
  {
   "cell_type": "markdown",
   "id": "ed1a4775",
   "metadata": {},
   "source": [
    "More than 65% passenger didn't have any sibling/spouse, ~20% have 1 sibling/spouse"
   ]
  },
  {
   "cell_type": "code",
   "execution_count": 15,
   "id": "669f2a26",
   "metadata": {},
   "outputs": [
    {
     "data": {
      "text/plain": [
       "<AxesSubplot:xlabel='SibSp', ylabel='count'>"
      ]
     },
     "execution_count": 15,
     "metadata": {},
     "output_type": "execute_result"
    },
    {
     "data": {
      "image/png": "[encoded data removed]",
      "text/plain": [
       "<Figure size 432x288 with 1 Axes>"
      ]
     },
     "metadata": {},
     "output_type": "display_data"
    }
   ],
   "source": [
    "sns.countplot(x = 'SibSp', data=dt)"
   ]
  },
  {
   "cell_type": "code",
   "execution_count": 16,
   "id": "ca263ae4",
   "metadata": {},
   "outputs": [
    {
     "data": {
      "text/plain": [
       "0    678\n",
       "1    118\n",
       "2     80\n",
       "3      5\n",
       "5      5\n",
       "4      4\n",
       "6      1\n",
       "Name: Parch, dtype: int64"
      ]
     },
     "execution_count": 16,
     "metadata": {},
     "output_type": "execute_result"
    }
   ],
   "source": [
    "dt['Parch'].value_counts()"
   ]
  },
  {
   "cell_type": "markdown",
   "id": "00c97e31",
   "metadata": {},
   "source": [
    "~76% of the passenger does not have parent child, ~13% have 1 parent child and the rest have either 2,3,4,5 or 6 parent child"
   ]
  },
  {
   "cell_type": "code",
   "execution_count": 17,
   "id": "dc2586e3",
   "metadata": {},
   "outputs": [
    {
     "data": {
      "text/plain": [
       "<AxesSubplot:xlabel='Parch', ylabel='count'>"
      ]
     },
     "execution_count": 17,
     "metadata": {},
     "output_type": "execute_result"
    },
    {
     "data": {
      "image/png": "[encoded data removed]",
      "text/plain": [
       "<Figure size 432x288 with 1 Axes>"
      ]
     },
     "metadata": {},
     "output_type": "display_data"
    }
   ],
   "source": [
    "sns.countplot(x = 'Parch', data=dt)"
   ]
  },
  {
   "cell_type": "code",
   "execution_count": 18,
   "id": "5e0e1167",
   "metadata": {},
   "outputs": [
    {
     "data": {
      "text/plain": [
       "S    644\n",
       "C    168\n",
       "Q     77\n",
       "Name: Embarked, dtype: int64"
      ]
     },
     "execution_count": 18,
     "metadata": {},
     "output_type": "execute_result"
    }
   ],
   "source": [
    "dt['Embarked'].value_counts()"
   ]
  },
  {
   "cell_type": "markdown",
   "id": "fc4f4432",
   "metadata": {},
   "source": [
    "Around 70% of passenger is embarked in ship "
   ]
  },
  {
   "cell_type": "code",
   "execution_count": 19,
   "id": "c47e0911",
   "metadata": {},
   "outputs": [
    {
     "data": {
      "text/plain": [
       "<AxesSubplot:xlabel='Embarked', ylabel='count'>"
      ]
     },
     "execution_count": 19,
     "metadata": {},
     "output_type": "execute_result"
    },
    {
     "data": {
      "image/png": "[encoded data removed]",
      "text/plain": [
       "<Figure size 432x288 with 1 Axes>"
      ]
     },
     "metadata": {},
     "output_type": "display_data"
    }
   ],
   "source": [
    "sns.countplot(x = 'Embarked', data=dt)"
   ]
  },
  {
   "cell_type": "code",
   "execution_count": 20,
   "id": "db2ab4ea",
   "metadata": {},
   "outputs": [
    {
     "data": {
      "text/plain": [
       "<seaborn.axisgrid.FacetGrid at 0x1bd5f0595b0>"
      ]
     },
     "execution_count": 20,
     "metadata": {},
     "output_type": "execute_result"
    },
    {
     "data": {
      "image/png": "[encoded data removed]",
      "text/plain": [
       "<Figure size 360x360 with 1 Axes>"
      ]
     },
     "metadata": {},
     "output_type": "display_data"
    }
   ],
   "source": [
    "sns.displot(x=dt['Age'],color='blue',bins=5,kde=True)"
   ]
  },
  {
   "cell_type": "markdown",
   "id": "fd067028",
   "metadata": {},
   "source": [
    "Majority of the passengers are in the range of 20yrs-50yrs with most of them between 20-30yrs"
   ]
  },
  {
   "cell_type": "code",
   "execution_count": 21,
   "id": "bbc3430b",
   "metadata": {},
   "outputs": [
    {
     "data": {
      "text/plain": [
       "<seaborn.axisgrid.FacetGrid at 0x1bd5f0c5d60>"
      ]
     },
     "execution_count": 21,
     "metadata": {},
     "output_type": "execute_result"
    },
    {
     "data": {
      "image/png": "[encoded data removed]",
      "text/plain": [
       "<Figure size 360x360 with 1 Axes>"
      ]
     },
     "metadata": {},
     "output_type": "display_data"
    }
   ],
   "source": [
    "sns.displot(x=dt['Fare'],color='blue',bins=5,kde=True)"
   ]
  },
  {
   "cell_type": "raw",
   "id": "826e9a32",
   "metadata": {},
   "source": [
    "\"\"\"Apart from the range of $ (0-100), there are some fares whose price is above $100 and goes upto $300 which proves some exceptional cases \"\"\""
   ]
  },
  {
   "cell_type": "code",
   "execution_count": 22,
   "id": "f159f526",
   "metadata": {},
   "outputs": [],
   "source": [
    "sns.distplot?"
   ]
  },
  {
   "cell_type": "code",
   "execution_count": null,
   "id": "3bff63cf",
   "metadata": {},
   "outputs": [],
   "source": []
  },
  {
   "cell_type": "markdown",
   "id": "5e7f226f",
   "metadata": {},
   "source": [
    "### Bivariate Analysis"
   ]
  },
  {
   "cell_type": "code",
   "execution_count": 23,
   "id": "74e5ceb6",
   "metadata": {},
   "outputs": [
    {
     "data": {
      "text/plain": [
       "Index(['PassengerId', 'Survived', 'Pclass', 'Name', 'Sex', 'Age', 'SibSp',\n",
       "       'Parch', 'Ticket', 'Fare', 'Cabin', 'Embarked'],\n",
       "      dtype='object')"
      ]
     },
     "execution_count": 23,
     "metadata": {},
     "output_type": "execute_result"
    }
   ],
   "source": [
    "dt.columns"
   ]
  },
  {
   "cell_type": "code",
   "execution_count": 24,
   "id": "e3a41c6a",
   "metadata": {},
   "outputs": [
    {
     "data": {
      "text/plain": [
       "<AxesSubplot:xlabel='Survived', ylabel='count'>"
      ]
     },
     "execution_count": 24,
     "metadata": {},
     "output_type": "execute_result"
    },
    {
     "data": {
      "image/png": "[encoded data removed]",
      "text/plain": [
       "<Figure size 432x288 with 1 Axes>"
      ]
     },
     "metadata": {},
     "output_type": "display_data"
    }
   ],
   "source": [
    "sns.countplot(x ='Survived', hue = 'Sex', data = dt, palette = 'mako')"
   ]
  },
  {
   "cell_type": "markdown",
   "id": "f8e401c1",
   "metadata": {},
   "source": [
    "More no of male died compared to female while female survival rate is higher compared to male"
   ]
  },
  {
   "cell_type": "code",
   "execution_count": 25,
   "id": "4a9936ce",
   "metadata": {
    "scrolled": true
   },
   "outputs": [
    {
     "data": {
      "text/plain": [
       "<AxesSubplot:xlabel='Survived', ylabel='count'>"
      ]
     },
     "execution_count": 25,
     "metadata": {},
     "output_type": "execute_result"
    },
    {
     "data": {
      "image/png": "[encoded data removed]",
      "text/plain": [
       "<Figure size 432x288 with 1 Axes>"
      ]
     },
     "metadata": {},
     "output_type": "display_data"
    }
   ],
   "source": [
    "sns.countplot(hue = 'Pclass', x='Survived', data = dt, palette = 'mako')"
   ]
  },
  {
   "cell_type": "raw",
   "id": "314a2a27",
   "metadata": {},
   "source": [
    "Passenger from Class 3 witnessed highest death, followed by class 2 and class 1\n",
    "Passenger from Class 1 has highest survival rate, followed by class 3 and class 2"
   ]
  },
  {
   "cell_type": "code",
   "execution_count": 26,
   "id": "be534deb",
   "metadata": {},
   "outputs": [
    {
     "data": {
      "text/plain": [
       "<AxesSubplot:xlabel='Survived', ylabel='count'>"
      ]
     },
     "execution_count": 26,
     "metadata": {},
     "output_type": "execute_result"
    },
    {
     "data": {
      "image/png": "[encoded data removed]",
      "text/plain": [
       "<Figure size 432x288 with 1 Axes>"
      ]
     },
     "metadata": {},
     "output_type": "display_data"
    }
   ],
   "source": [
    "sns.countplot(hue = 'SibSp', x='Survived', data = dt, palette = 'mako',saturation=1.25)"
   ]
  },
  {
   "cell_type": "code",
   "execution_count": 27,
   "id": "0cb77247",
   "metadata": {},
   "outputs": [],
   "source": [
    "sns.countplot?"
   ]
  },
  {
   "cell_type": "markdown",
   "id": "5c2dd4c3",
   "metadata": {},
   "source": [
    "### Multivariate Visuals"
   ]
  },
  {
   "cell_type": "code",
   "execution_count": 28,
   "id": "091db31f",
   "metadata": {},
   "outputs": [
    {
     "data": {
      "text/plain": [
       "<seaborn.axisgrid.FacetGrid at 0x1bd5eea4640>"
      ]
     },
     "execution_count": 28,
     "metadata": {},
     "output_type": "execute_result"
    },
    {
     "data": {
      "image/png": "[encoded data removed]",
      "text/plain": [
       "<Figure size 426.125x360 with 1 Axes>"
      ]
     },
     "metadata": {},
     "output_type": "display_data"
    }
   ],
   "source": [
    "sns.catplot(x='Pclass', y='Survived', hue='Sex', data = dt, kind='bar',palette = 'magma')"
   ]
  },
  {
   "cell_type": "markdown",
   "id": "36022812",
   "metadata": {},
   "source": [
    "In every class, the survival rate of female is higher than male counterparts"
   ]
  },
  {
   "cell_type": "code",
   "execution_count": 29,
   "id": "ec3590de",
   "metadata": {},
   "outputs": [
    {
     "data": {
      "text/plain": [
       "<seaborn.axisgrid.FacetGrid at 0x1bd5f102e80>"
      ]
     },
     "execution_count": 29,
     "metadata": {},
     "output_type": "execute_result"
    },
    {
     "data": {
      "image/png": "[encoded data removed]",
      "text/plain": [
       "<Figure size 426.125x360 with 1 Axes>"
      ]
     },
     "metadata": {},
     "output_type": "display_data"
    }
   ],
   "source": [
    "sns.catplot(x='SibSp',y='Survived',hue='Sex',data=dt, palette='magma',kind='bar')"
   ]
  },
  {
   "cell_type": "code",
   "execution_count": 30,
   "id": "f919cc53",
   "metadata": {},
   "outputs": [],
   "source": [
    "sns.catplot?"
   ]
  },
  {
   "cell_type": "code",
   "execution_count": 31,
   "id": "f6c4cfd2",
   "metadata": {},
   "outputs": [
    {
     "data": {
      "text/plain": [
       "<seaborn.axisgrid.FacetGrid at 0x1bd5f41f340>"
      ]
     },
     "execution_count": 31,
     "metadata": {},
     "output_type": "execute_result"
    },
    {
     "data": {
      "image/png": "[encoded data removed]",
      "text/plain": [
       "<Figure size 426.125x360 with 1 Axes>"
      ]
     },
     "metadata": {},
     "output_type": "display_data"
    }
   ],
   "source": [
    "sns.catplot(x='Parch',y='Survived',hue='Sex',data=dt, palette='magma',kind='bar')"
   ]
  },
  {
   "cell_type": "code",
   "execution_count": 32,
   "id": "145065da",
   "metadata": {},
   "outputs": [
    {
     "data": {
      "text/plain": [
       "<seaborn.axisgrid.FacetGrid at 0x1bd5f5980d0>"
      ]
     },
     "execution_count": 32,
     "metadata": {},
     "output_type": "execute_result"
    },
    {
     "data": {
      "image/png": "[encoded data removed]",
      "text/plain": [
       "<Figure size 426.125x360 with 1 Axes>"
      ]
     },
     "metadata": {},
     "output_type": "display_data"
    }
   ],
   "source": [
    "sns.catplot(x='Embarked',y='Survived',hue='Sex',data=dt, palette='magma',kind='bar')"
   ]
  },
  {
   "cell_type": "markdown",
   "id": "9743fc70",
   "metadata": {},
   "source": [
    "#### Conclusion: Female are being given priority to be saved from sinking ship."
   ]
  },
  {
   "cell_type": "markdown",
   "id": "8a4b73e9",
   "metadata": {},
   "source": [
    "### All in one multivariate analysis"
   ]
  },
  {
   "cell_type": "code",
   "execution_count": 33,
   "id": "1e7f0358",
   "metadata": {
    "scrolled": true
   },
   "outputs": [
    {
     "data": {
      "image/png": "[encoded data removed]",
      "text/plain": [
       "<Figure size 432x288 with 1 Axes>"
      ]
     },
     "metadata": {},
     "output_type": "display_data"
    },
    {
     "data": {
      "image/png": "[encoded data removed]",
      "text/plain": [
       "<Figure size 432x288 with 1 Axes>"
      ]
     },
     "metadata": {},
     "output_type": "display_data"
    },
    {
     "data": {
      "image/png": "[encoded data removed]",
      "text/plain": [
       "<Figure size 432x288 with 1 Axes>"
      ]
     },
     "metadata": {},
     "output_type": "display_data"
    },
    {
     "data": {
      "image/png": "[encoded data removed]",
      "text/plain": [
       "<Figure size 432x288 with 1 Axes>"
      ]
     },
     "metadata": {},
     "output_type": "display_data"
    },
    {
     "data": {
      "image/png": "[encoded data removed]",
      "text/plain": [
       "<Figure size 432x288 with 1 Axes>"
      ]
     },
     "metadata": {},
     "output_type": "display_data"
    },
    {
     "data": {
      "image/png": "[encoded data removed]",
      "text/plain": [
       "<Figure size 432x288 with 1 Axes>"
      ]
     },
     "metadata": {},
     "output_type": "display_data"
    },
    {
     "data": {
      "image/png": "[encoded data removed]",
      "text/plain": [
       "<Figure size 432x288 with 1 Axes>"
      ]
     },
     "metadata": {},
     "output_type": "display_data"
    },
    {
     "data": {
      "image/png": "[encoded data removed]",
      "text/plain": [
       "<Figure size 432x288 with 1 Axes>"
      ]
     },
     "metadata": {},
     "output_type": "display_data"
    },
    {
     "data": {
      "image/png": "[encoded data removed]",
      "text/plain": [
       "<Figure size 432x288 with 1 Axes>"
      ]
     },
     "metadata": {},
     "output_type": "display_data"
    }
   ],
   "source": [
    "for i,cols in enumerate(dt.columns.drop(['Survived','Name','Cabin'])):\n",
    "    plt.figure(i)\n",
    "    sns.barplot(x=dt['Survived'], y=cols, data=dt, palette = 'mako',saturation=1, hue=\"Sex\")\n"
   ]
  },
  {
   "cell_type": "markdown",
   "id": "bbdfab90",
   "metadata": {},
   "source": [
    "##### Not a conclusive visuals"
   ]
  },
  {
   "cell_type": "code",
   "execution_count": null,
   "id": "ed14bc50",
   "metadata": {},
   "outputs": [],
   "source": []
  },
  {
   "cell_type": "markdown",
   "id": "2a242d3f",
   "metadata": {},
   "source": [
    "## Statistics and Visuals"
   ]
  },
  {
   "cell_type": "code",
   "execution_count": 34,
   "id": "ba397f49",
   "metadata": {},
   "outputs": [
    {
     "data": {
      "text/html": [
       "<div>\n",
       "<style scoped>\n",
       "    .dataframe tbody tr th:only-of-type {\n",
       "        vertical-align: middle;\n",
       "    }\n",
       "\n",
       "    .dataframe tbody tr th {\n",
       "        vertical-align: top;\n",
       "    }\n",
       "\n",
       "    .dataframe thead th {\n",
       "        text-align: right;\n",
       "    }\n",
       "</style>\n",
       "<table border=\"1\" class=\"dataframe\">\n",
       "  <thead>\n",
       "    <tr style=\"text-align: right;\">\n",
       "      <th></th>\n",
       "      <th>PassengerId</th>\n",
       "      <th>Survived</th>\n",
       "      <th>Pclass</th>\n",
       "      <th>Age</th>\n",
       "      <th>SibSp</th>\n",
       "      <th>Parch</th>\n",
       "      <th>Fare</th>\n",
       "    </tr>\n",
       "  </thead>\n",
       "  <tbody>\n",
       "    <tr>\n",
       "      <th>count</th>\n",
       "      <td>891.000000</td>\n",
       "      <td>891.000000</td>\n",
       "      <td>891.000000</td>\n",
       "      <td>714.000000</td>\n",
       "      <td>891.000000</td>\n",
       "      <td>891.000000</td>\n",
       "      <td>891.000000</td>\n",
       "    </tr>\n",
       "    <tr>\n",
       "      <th>mean</th>\n",
       "      <td>446.000000</td>\n",
       "      <td>0.383838</td>\n",
       "      <td>2.308642</td>\n",
       "      <td>29.699118</td>\n",
       "      <td>0.523008</td>\n",
       "      <td>0.381594</td>\n",
       "      <td>32.204208</td>\n",
       "    </tr>\n",
       "    <tr>\n",
       "      <th>std</th>\n",
       "      <td>257.353842</td>\n",
       "      <td>0.486592</td>\n",
       "      <td>0.836071</td>\n",
       "      <td>14.526497</td>\n",
       "      <td>1.102743</td>\n",
       "      <td>0.806057</td>\n",
       "      <td>49.693429</td>\n",
       "    </tr>\n",
       "    <tr>\n",
       "      <th>min</th>\n",
       "      <td>1.000000</td>\n",
       "      <td>0.000000</td>\n",
       "      <td>1.000000</td>\n",
       "      <td>0.420000</td>\n",
       "      <td>0.000000</td>\n",
       "      <td>0.000000</td>\n",
       "      <td>0.000000</td>\n",
       "    </tr>\n",
       "    <tr>\n",
       "      <th>25%</th>\n",
       "      <td>223.500000</td>\n",
       "      <td>0.000000</td>\n",
       "      <td>2.000000</td>\n",
       "      <td>20.125000</td>\n",
       "      <td>0.000000</td>\n",
       "      <td>0.000000</td>\n",
       "      <td>7.910400</td>\n",
       "    </tr>\n",
       "    <tr>\n",
       "      <th>50%</th>\n",
       "      <td>446.000000</td>\n",
       "      <td>0.000000</td>\n",
       "      <td>3.000000</td>\n",
       "      <td>28.000000</td>\n",
       "      <td>0.000000</td>\n",
       "      <td>0.000000</td>\n",
       "      <td>14.454200</td>\n",
       "    </tr>\n",
       "    <tr>\n",
       "      <th>75%</th>\n",
       "      <td>668.500000</td>\n",
       "      <td>1.000000</td>\n",
       "      <td>3.000000</td>\n",
       "      <td>38.000000</td>\n",
       "      <td>1.000000</td>\n",
       "      <td>0.000000</td>\n",
       "      <td>31.000000</td>\n",
       "    </tr>\n",
       "    <tr>\n",
       "      <th>max</th>\n",
       "      <td>891.000000</td>\n",
       "      <td>1.000000</td>\n",
       "      <td>3.000000</td>\n",
       "      <td>80.000000</td>\n",
       "      <td>8.000000</td>\n",
       "      <td>6.000000</td>\n",
       "      <td>512.329200</td>\n",
       "    </tr>\n",
       "  </tbody>\n",
       "</table>\n",
       "</div>"
      ],
      "text/plain": [
       "       PassengerId    Survived      Pclass         Age       SibSp  \\\n",
       "count   891.000000  891.000000  891.000000  714.000000  891.000000   \n",
       "mean    446.000000    0.383838    2.308642   29.699118    0.523008   \n",
       "std     257.353842    0.486592    0.836071   14.526497    1.102743   \n",
       "min       1.000000    0.000000    1.000000    0.420000    0.000000   \n",
       "25%     223.500000    0.000000    2.000000   20.125000    0.000000   \n",
       "50%     446.000000    0.000000    3.000000   28.000000    0.000000   \n",
       "75%     668.500000    1.000000    3.000000   38.000000    1.000000   \n",
       "max     891.000000    1.000000    3.000000   80.000000    8.000000   \n",
       "\n",
       "            Parch        Fare  \n",
       "count  891.000000  891.000000  \n",
       "mean     0.381594   32.204208  \n",
       "std      0.806057   49.693429  \n",
       "min      0.000000    0.000000  \n",
       "25%      0.000000    7.910400  \n",
       "50%      0.000000   14.454200  \n",
       "75%      0.000000   31.000000  \n",
       "max      6.000000  512.329200  "
      ]
     },
     "execution_count": 34,
     "metadata": {},
     "output_type": "execute_result"
    }
   ],
   "source": [
    "dt.describe()"
   ]
  },
  {
   "cell_type": "raw",
   "id": "e4687e57",
   "metadata": {},
   "source": [
    "Key Observations:\n",
    "    1. Difference between mean & std is observable.\n",
    "    2. The min and max are immensely apart in 'Fare'\n",
    "    3. Possibility of skewness might exist"
   ]
  },
  {
   "cell_type": "code",
   "execution_count": 35,
   "id": "1f3c89f3",
   "metadata": {},
   "outputs": [
    {
     "data": {
      "text/plain": [
       "<AxesSubplot:>"
      ]
     },
     "execution_count": 35,
     "metadata": {},
     "output_type": "execute_result"
    },
    {
     "data": {
      "image/png": "[encoded data removed]",
      "text/plain": [
       "<Figure size 720x576 with 2 Axes>"
      ]
     },
     "metadata": {},
     "output_type": "display_data"
    }
   ],
   "source": [
    "plt.figure(figsize=(10,8))\n",
    "sns.heatmap(dt.corr(),annot=True, linecolor='black',linewidths=0.4,cmap = 'seismic',vmin=-1, vmax=1)"
   ]
  },
  {
   "cell_type": "raw",
   "id": "1207886c",
   "metadata": {},
   "source": [
    "Observations:\n",
    "    Positive Correlation\n",
    "    1. SibSp & Parch has highest positive correlation (44%)\n",
    "    2. Survived & Fare is fairly correlated (26%)\n",
    "    3. Parch & Fare is (22%)\n",
    "    \n",
    "    Negative Correlation\n",
    "    1. Pclass & Fare is negatively correlated (-55%)\n",
    "    2. Pclass & Age is negatively related (-37%)\n",
    "    3. Pclass & Survived comes third in negative correlation (-34%)\n",
    "    4. SibSp & Age is also negatively correlated (-31%)"
   ]
  },
  {
   "cell_type": "code",
   "execution_count": 36,
   "id": "478504b8",
   "metadata": {},
   "outputs": [
    {
     "data": {
      "text/plain": [
       "<seaborn.axisgrid.FacetGrid at 0x1bd63ba08e0>"
      ]
     },
     "execution_count": 36,
     "metadata": {},
     "output_type": "execute_result"
    },
    {
     "data": {
      "image/png": "[encoded data removed]",
      "text/plain": [
       "<Figure size 426.125x360 with 1 Axes>"
      ]
     },
     "metadata": {},
     "output_type": "display_data"
    }
   ],
   "source": [
    "sns.lmplot(y='Survived', x='Age',data=dt, hue='Sex',palette='Set1',x_bins=10, markers=[\"*\",\"o\"])"
   ]
  },
  {
   "cell_type": "markdown",
   "id": "e3565475",
   "metadata": {},
   "source": [
    "##### Observation"
   ]
  },
  {
   "cell_type": "markdown",
   "id": "a0dbcc9c",
   "metadata": {},
   "source": [
    "Negative relation i.e as the age increases, the chances of survival in male decreases\n",
    "Wheareas its opposite in case of female. Survival rate increase with the age."
   ]
  },
  {
   "cell_type": "code",
   "execution_count": 37,
   "id": "1e4fcb04",
   "metadata": {},
   "outputs": [
    {
     "data": {
      "text/plain": [
       "<seaborn.axisgrid.FacetGrid at 0x1bd63b62eb0>"
      ]
     },
     "execution_count": 37,
     "metadata": {},
     "output_type": "execute_result"
    },
    {
     "data": {
      "image/png": "[encoded data removed]",
      "text/plain": [
       "<Figure size 1080x720 with 6 Axes>"
      ]
     },
     "metadata": {},
     "output_type": "display_data"
    }
   ],
   "source": [
    "sns.lmplot(y='Survived', x='Age',data=dt, row='Sex', col = 'Pclass',palette='Set1',x_bins=10,height=5)"
   ]
  },
  {
   "cell_type": "markdown",
   "id": "82feec09",
   "metadata": {},
   "source": [
    "##### Observation"
   ]
  },
  {
   "cell_type": "raw",
   "id": "2f5e2cbb",
   "metadata": {},
   "source": [
    "Out of all the visuals, the female of class1 has positive inclination which means, most of the females of Pclass 1 have survived\n",
    "Some of the exception cases are seen in class 2 and class 3"
   ]
  },
  {
   "cell_type": "code",
   "execution_count": 38,
   "id": "bcf6df29",
   "metadata": {},
   "outputs": [
    {
     "data": {
      "text/plain": [
       "<seaborn.axisgrid.FacetGrid at 0x1bd607d3d90>"
      ]
     },
     "execution_count": 38,
     "metadata": {},
     "output_type": "execute_result"
    },
    {
     "data": {
      "image/png": "[encoded data removed]",
      "text/plain": [
       "<Figure size 1146.12x720 with 6 Axes>"
      ]
     },
     "metadata": {},
     "output_type": "display_data"
    }
   ],
   "source": [
    "sns.lmplot(y='Fare', x='Parch',data=dt, row='Survived', col = 'Pclass',hue = 'Sex', palette='mako',height=5, markers = [\"o\",\"x\"])\n"
   ]
  },
  {
   "cell_type": "code",
   "execution_count": null,
   "id": "d486b274",
   "metadata": {},
   "outputs": [],
   "source": []
  },
  {
   "cell_type": "code",
   "execution_count": 39,
   "id": "35a3bf05",
   "metadata": {},
   "outputs": [
    {
     "data": {
      "text/plain": [
       "<Figure size 720x864 with 0 Axes>"
      ]
     },
     "metadata": {},
     "output_type": "display_data"
    },
    {
     "data": {
      "image/png": "[encoded data removed]",
      "text/plain": [
       "<Figure size 720x864 with 12 Axes>"
      ]
     },
     "metadata": {},
     "output_type": "display_data"
    }
   ],
   "source": [
    "#checking outliers\n",
    "plt.figure(figsize=(10,12))\n",
    "dt.plot(kind ='box',subplots=True, layout = (3,4),figsize=(10,12))\n",
    "plt.tight_layout(pad=0.4,w_pad=0.7,h_pad=3)"
   ]
  },
  {
   "cell_type": "markdown",
   "id": "7ef10b49",
   "metadata": {},
   "source": [
    "##### Observation"
   ]
  },
  {
   "cell_type": "raw",
   "id": "a96138e0",
   "metadata": {},
   "source": [
    "Looking carefully at the plot, we can consider outliers on 'Fare' & 'Age' because rest all are the categorical attribute features\n",
    "Additionally, we have to remember the null values present in certain features."
   ]
  },
  {
   "cell_type": "code",
   "execution_count": 40,
   "id": "70d6f150",
   "metadata": {},
   "outputs": [
    {
     "data": {
      "image/png": "[encoded data removed]",
      "text/plain": [
       "<Figure size 720x864 with 12 Axes>"
      ]
     },
     "metadata": {},
     "output_type": "display_data"
    }
   ],
   "source": [
    "#Skewness\n",
    "dt.plot(kind = 'kde', subplots = True, layout=(3,4), figsize = (10,12),)\n",
    "plt.tight_layout(pad=0.4,w_pad=0.7,h_pad=3)"
   ]
  },
  {
   "cell_type": "markdown",
   "id": "ae2d7db7",
   "metadata": {},
   "source": [
    "##### Observation"
   ]
  },
  {
   "cell_type": "raw",
   "id": "f8377dd0",
   "metadata": {},
   "source": [
    "Not significant skewness visible except that of in 'Fare'\n",
    "We will check in pre-processing step"
   ]
  },
  {
   "cell_type": "code",
   "execution_count": null,
   "id": "ce878de1",
   "metadata": {},
   "outputs": [],
   "source": []
  },
  {
   "cell_type": "markdown",
   "id": "44b1f35e",
   "metadata": {},
   "source": [
    "## Feature Engineering"
   ]
  },
  {
   "cell_type": "code",
   "execution_count": 41,
   "id": "b8047ad0",
   "metadata": {},
   "outputs": [
    {
     "data": {
      "text/plain": [
       "Index(['PassengerId', 'Survived', 'Pclass', 'Name', 'Sex', 'Age', 'SibSp',\n",
       "       'Parch', 'Ticket', 'Fare', 'Cabin', 'Embarked'],\n",
       "      dtype='object')"
      ]
     },
     "execution_count": 41,
     "metadata": {},
     "output_type": "execute_result"
    }
   ],
   "source": [
    "dt.columns"
   ]
  },
  {
   "cell_type": "markdown",
   "id": "7a6d23b6",
   "metadata": {},
   "source": [
    "##### Now, we'll try to fill the nan values in Age by the mean of that Pclass"
   ]
  },
  {
   "cell_type": "code",
   "execution_count": 42,
   "id": "614c4606",
   "metadata": {},
   "outputs": [],
   "source": [
    "def null_values(col):\n",
    "    Age = col[0]\n",
    "    Pclass = col[1]\n",
    "    \n",
    "    if pd.isnull(Age):\n",
    "        if Pclass == 1:\n",
    "            return dt[dt['Pclass']==1]['Age'].mean()\n",
    "        \n",
    "        elif Pclass == 2:\n",
    "            return dt[dt['Pclass']==2]['Age'].mean()\n",
    "        \n",
    "        elif Pclass == 3:\n",
    "            return dt[dt['Pclass']==3]['Age'].mean()\n",
    "        \n",
    "    else:\n",
    "        return Age"
   ]
  },
  {
   "cell_type": "code",
   "execution_count": 43,
   "id": "967dfcac",
   "metadata": {},
   "outputs": [],
   "source": [
    "dt['Age']=dt[['Age','Pclass']].apply(null_values, axis=1)"
   ]
  },
  {
   "cell_type": "code",
   "execution_count": 44,
   "id": "f9665e9f",
   "metadata": {},
   "outputs": [
    {
     "data": {
      "text/plain": [
       "0"
      ]
     },
     "execution_count": 44,
     "metadata": {},
     "output_type": "execute_result"
    }
   ],
   "source": [
    "#check the null values in 'Age'\n",
    "dt['Age'].isnull().sum()"
   ]
  },
  {
   "cell_type": "code",
   "execution_count": 45,
   "id": "b162e349",
   "metadata": {},
   "outputs": [
    {
     "data": {
      "text/plain": [
       "687"
      ]
     },
     "execution_count": 45,
     "metadata": {},
     "output_type": "execute_result"
    }
   ],
   "source": [
    "#Check the nan values in 'Cabin'\n",
    "dt['Cabin'].isnull().sum()"
   ]
  },
  {
   "cell_type": "code",
   "execution_count": 46,
   "id": "7ce5cdd2",
   "metadata": {
    "scrolled": true
   },
   "outputs": [],
   "source": [
    "#since most of the values are null, we'll drop the column\n",
    "dt.drop('Cabin',axis=1, inplace=True)"
   ]
  },
  {
   "cell_type": "code",
   "execution_count": 47,
   "id": "99c887c9",
   "metadata": {},
   "outputs": [
    {
     "data": {
      "text/plain": [
       "Index(['PassengerId', 'Survived', 'Pclass', 'Name', 'Sex', 'Age', 'SibSp',\n",
       "       'Parch', 'Ticket', 'Fare', 'Embarked'],\n",
       "      dtype='object')"
      ]
     },
     "execution_count": 47,
     "metadata": {},
     "output_type": "execute_result"
    }
   ],
   "source": [
    "#checking if the 'Cabin' attribute is dropped?\n",
    "dt.columns"
   ]
  },
  {
   "cell_type": "code",
   "execution_count": 48,
   "id": "cdff30aa",
   "metadata": {},
   "outputs": [],
   "source": [
    "#filling the nan values in 'Embarked' with most frequent values\n",
    "dt = dt.fillna(dt['Embarked'].value_counts().index[0])"
   ]
  },
  {
   "cell_type": "code",
   "execution_count": 49,
   "id": "e6bd21e2",
   "metadata": {},
   "outputs": [
    {
     "data": {
      "text/plain": [
       "0"
      ]
     },
     "execution_count": 49,
     "metadata": {},
     "output_type": "execute_result"
    }
   ],
   "source": [
    "#checking if theres any null value in 'Embarked'\n",
    "dt['Embarked'].isnull().sum()"
   ]
  },
  {
   "cell_type": "code",
   "execution_count": 50,
   "id": "88548a9c",
   "metadata": {},
   "outputs": [
    {
     "data": {
      "text/plain": [
       "PassengerId    0\n",
       "Survived       0\n",
       "Pclass         0\n",
       "Name           0\n",
       "Sex            0\n",
       "Age            0\n",
       "SibSp          0\n",
       "Parch          0\n",
       "Ticket         0\n",
       "Fare           0\n",
       "Embarked       0\n",
       "dtype: int64"
      ]
     },
     "execution_count": 50,
     "metadata": {},
     "output_type": "execute_result"
    }
   ],
   "source": [
    "dt.isnull().sum()"
   ]
  },
  {
   "cell_type": "markdown",
   "id": "a65296ef",
   "metadata": {},
   "source": [
    "##### No null values present"
   ]
  },
  {
   "cell_type": "markdown",
   "id": "29c4b304",
   "metadata": {},
   "source": [
    "## Converting numerical values into string categorical values"
   ]
  },
  {
   "cell_type": "code",
   "execution_count": 51,
   "id": "ec4f0bfd",
   "metadata": {},
   "outputs": [],
   "source": [
    "#We'll convert 'Sex' into categorical values 0 & 1\n",
    "from sklearn.preprocessing import LabelEncoder\n",
    "en = LabelEncoder()\n",
    "dt['Sex']=en.fit_transform(dt['Sex']).astype(object)"
   ]
  },
  {
   "cell_type": "code",
   "execution_count": 52,
   "id": "008ee868",
   "metadata": {},
   "outputs": [
    {
     "data": {
      "text/plain": [
       "0    1\n",
       "1    0\n",
       "2    0\n",
       "3    0\n",
       "4    1\n",
       "5    1\n",
       "6    1\n",
       "7    1\n",
       "8    0\n",
       "9    0\n",
       "Name: Sex, dtype: object"
      ]
     },
     "execution_count": 52,
     "metadata": {},
     "output_type": "execute_result"
    }
   ],
   "source": [
    "dt['Sex'].head(10)"
   ]
  },
  {
   "cell_type": "code",
   "execution_count": 53,
   "id": "a07dcc58",
   "metadata": {},
   "outputs": [],
   "source": [
    "#we'll create dummy variable for 'Embarked' column\n",
    "Embarked = pd.get_dummies(dt['Embarked'])"
   ]
  },
  {
   "cell_type": "code",
   "execution_count": 54,
   "id": "50ffb699",
   "metadata": {},
   "outputs": [
    {
     "data": {
      "text/html": [
       "<div>\n",
       "<style scoped>\n",
       "    .dataframe tbody tr th:only-of-type {\n",
       "        vertical-align: middle;\n",
       "    }\n",
       "\n",
       "    .dataframe tbody tr th {\n",
       "        vertical-align: top;\n",
       "    }\n",
       "\n",
       "    .dataframe thead th {\n",
       "        text-align: right;\n",
       "    }\n",
       "</style>\n",
       "<table border=\"1\" class=\"dataframe\">\n",
       "  <thead>\n",
       "    <tr style=\"text-align: right;\">\n",
       "      <th></th>\n",
       "      <th>C</th>\n",
       "      <th>Q</th>\n",
       "      <th>S</th>\n",
       "    </tr>\n",
       "  </thead>\n",
       "  <tbody>\n",
       "    <tr>\n",
       "      <th>0</th>\n",
       "      <td>0</td>\n",
       "      <td>0</td>\n",
       "      <td>1</td>\n",
       "    </tr>\n",
       "    <tr>\n",
       "      <th>1</th>\n",
       "      <td>1</td>\n",
       "      <td>0</td>\n",
       "      <td>0</td>\n",
       "    </tr>\n",
       "    <tr>\n",
       "      <th>2</th>\n",
       "      <td>0</td>\n",
       "      <td>0</td>\n",
       "      <td>1</td>\n",
       "    </tr>\n",
       "    <tr>\n",
       "      <th>3</th>\n",
       "      <td>0</td>\n",
       "      <td>0</td>\n",
       "      <td>1</td>\n",
       "    </tr>\n",
       "    <tr>\n",
       "      <th>4</th>\n",
       "      <td>0</td>\n",
       "      <td>0</td>\n",
       "      <td>1</td>\n",
       "    </tr>\n",
       "    <tr>\n",
       "      <th>...</th>\n",
       "      <td>...</td>\n",
       "      <td>...</td>\n",
       "      <td>...</td>\n",
       "    </tr>\n",
       "    <tr>\n",
       "      <th>886</th>\n",
       "      <td>0</td>\n",
       "      <td>0</td>\n",
       "      <td>1</td>\n",
       "    </tr>\n",
       "    <tr>\n",
       "      <th>887</th>\n",
       "      <td>0</td>\n",
       "      <td>0</td>\n",
       "      <td>1</td>\n",
       "    </tr>\n",
       "    <tr>\n",
       "      <th>888</th>\n",
       "      <td>0</td>\n",
       "      <td>0</td>\n",
       "      <td>1</td>\n",
       "    </tr>\n",
       "    <tr>\n",
       "      <th>889</th>\n",
       "      <td>1</td>\n",
       "      <td>0</td>\n",
       "      <td>0</td>\n",
       "    </tr>\n",
       "    <tr>\n",
       "      <th>890</th>\n",
       "      <td>0</td>\n",
       "      <td>1</td>\n",
       "      <td>0</td>\n",
       "    </tr>\n",
       "  </tbody>\n",
       "</table>\n",
       "<p>891 rows × 3 columns</p>\n",
       "</div>"
      ],
      "text/plain": [
       "     C  Q  S\n",
       "0    0  0  1\n",
       "1    1  0  0\n",
       "2    0  0  1\n",
       "3    0  0  1\n",
       "4    0  0  1\n",
       "..  .. .. ..\n",
       "886  0  0  1\n",
       "887  0  0  1\n",
       "888  0  0  1\n",
       "889  1  0  0\n",
       "890  0  1  0\n",
       "\n",
       "[891 rows x 3 columns]"
      ]
     },
     "execution_count": 54,
     "metadata": {},
     "output_type": "execute_result"
    }
   ],
   "source": [
    "Embarked"
   ]
  },
  {
   "cell_type": "code",
   "execution_count": 55,
   "id": "31a3ca59",
   "metadata": {},
   "outputs": [],
   "source": [
    "#merging dummy columns woth dataframe\n",
    "dt = pd.concat([dt,Embarked],axis=1)"
   ]
  },
  {
   "cell_type": "code",
   "execution_count": 56,
   "id": "40f26df0",
   "metadata": {
    "scrolled": true
   },
   "outputs": [],
   "source": [
    "#dropping Embarked column from original dataframe\n",
    "dt.drop('Embarked',axis=1,inplace=True)\n"
   ]
  },
  {
   "cell_type": "code",
   "execution_count": 57,
   "id": "7fbd1e49",
   "metadata": {},
   "outputs": [
    {
     "data": {
      "text/html": [
       "<div>\n",
       "<style scoped>\n",
       "    .dataframe tbody tr th:only-of-type {\n",
       "        vertical-align: middle;\n",
       "    }\n",
       "\n",
       "    .dataframe tbody tr th {\n",
       "        vertical-align: top;\n",
       "    }\n",
       "\n",
       "    .dataframe thead th {\n",
       "        text-align: right;\n",
       "    }\n",
       "</style>\n",
       "<table border=\"1\" class=\"dataframe\">\n",
       "  <thead>\n",
       "    <tr style=\"text-align: right;\">\n",
       "      <th></th>\n",
       "      <th>PassengerId</th>\n",
       "      <th>Survived</th>\n",
       "      <th>Pclass</th>\n",
       "      <th>Name</th>\n",
       "      <th>Sex</th>\n",
       "      <th>Age</th>\n",
       "      <th>SibSp</th>\n",
       "      <th>Parch</th>\n",
       "      <th>Ticket</th>\n",
       "      <th>Fare</th>\n",
       "      <th>C</th>\n",
       "      <th>Q</th>\n",
       "      <th>S</th>\n",
       "    </tr>\n",
       "  </thead>\n",
       "  <tbody>\n",
       "    <tr>\n",
       "      <th>0</th>\n",
       "      <td>1</td>\n",
       "      <td>0</td>\n",
       "      <td>3</td>\n",
       "      <td>Braund, Mr. Owen Harris</td>\n",
       "      <td>1</td>\n",
       "      <td>22.00000</td>\n",
       "      <td>1</td>\n",
       "      <td>0</td>\n",
       "      <td>A/5 21171</td>\n",
       "      <td>7.2500</td>\n",
       "      <td>0</td>\n",
       "      <td>0</td>\n",
       "      <td>1</td>\n",
       "    </tr>\n",
       "    <tr>\n",
       "      <th>1</th>\n",
       "      <td>2</td>\n",
       "      <td>1</td>\n",
       "      <td>1</td>\n",
       "      <td>Cumings, Mrs. John Bradley (Florence Briggs Th...</td>\n",
       "      <td>0</td>\n",
       "      <td>38.00000</td>\n",
       "      <td>1</td>\n",
       "      <td>0</td>\n",
       "      <td>PC 17599</td>\n",
       "      <td>71.2833</td>\n",
       "      <td>1</td>\n",
       "      <td>0</td>\n",
       "      <td>0</td>\n",
       "    </tr>\n",
       "    <tr>\n",
       "      <th>2</th>\n",
       "      <td>3</td>\n",
       "      <td>1</td>\n",
       "      <td>3</td>\n",
       "      <td>Heikkinen, Miss. Laina</td>\n",
       "      <td>0</td>\n",
       "      <td>26.00000</td>\n",
       "      <td>0</td>\n",
       "      <td>0</td>\n",
       "      <td>STON/O2. 3101282</td>\n",
       "      <td>7.9250</td>\n",
       "      <td>0</td>\n",
       "      <td>0</td>\n",
       "      <td>1</td>\n",
       "    </tr>\n",
       "    <tr>\n",
       "      <th>3</th>\n",
       "      <td>4</td>\n",
       "      <td>1</td>\n",
       "      <td>1</td>\n",
       "      <td>Futrelle, Mrs. Jacques Heath (Lily May Peel)</td>\n",
       "      <td>0</td>\n",
       "      <td>35.00000</td>\n",
       "      <td>1</td>\n",
       "      <td>0</td>\n",
       "      <td>113803</td>\n",
       "      <td>53.1000</td>\n",
       "      <td>0</td>\n",
       "      <td>0</td>\n",
       "      <td>1</td>\n",
       "    </tr>\n",
       "    <tr>\n",
       "      <th>4</th>\n",
       "      <td>5</td>\n",
       "      <td>0</td>\n",
       "      <td>3</td>\n",
       "      <td>Allen, Mr. William Henry</td>\n",
       "      <td>1</td>\n",
       "      <td>35.00000</td>\n",
       "      <td>0</td>\n",
       "      <td>0</td>\n",
       "      <td>373450</td>\n",
       "      <td>8.0500</td>\n",
       "      <td>0</td>\n",
       "      <td>0</td>\n",
       "      <td>1</td>\n",
       "    </tr>\n",
       "    <tr>\n",
       "      <th>...</th>\n",
       "      <td>...</td>\n",
       "      <td>...</td>\n",
       "      <td>...</td>\n",
       "      <td>...</td>\n",
       "      <td>...</td>\n",
       "      <td>...</td>\n",
       "      <td>...</td>\n",
       "      <td>...</td>\n",
       "      <td>...</td>\n",
       "      <td>...</td>\n",
       "      <td>...</td>\n",
       "      <td>...</td>\n",
       "      <td>...</td>\n",
       "    </tr>\n",
       "    <tr>\n",
       "      <th>886</th>\n",
       "      <td>887</td>\n",
       "      <td>0</td>\n",
       "      <td>2</td>\n",
       "      <td>Montvila, Rev. Juozas</td>\n",
       "      <td>1</td>\n",
       "      <td>27.00000</td>\n",
       "      <td>0</td>\n",
       "      <td>0</td>\n",
       "      <td>211536</td>\n",
       "      <td>13.0000</td>\n",
       "      <td>0</td>\n",
       "      <td>0</td>\n",
       "      <td>1</td>\n",
       "    </tr>\n",
       "    <tr>\n",
       "      <th>887</th>\n",
       "      <td>888</td>\n",
       "      <td>1</td>\n",
       "      <td>1</td>\n",
       "      <td>Graham, Miss. Margaret Edith</td>\n",
       "      <td>0</td>\n",
       "      <td>19.00000</td>\n",
       "      <td>0</td>\n",
       "      <td>0</td>\n",
       "      <td>112053</td>\n",
       "      <td>30.0000</td>\n",
       "      <td>0</td>\n",
       "      <td>0</td>\n",
       "      <td>1</td>\n",
       "    </tr>\n",
       "    <tr>\n",
       "      <th>888</th>\n",
       "      <td>889</td>\n",
       "      <td>0</td>\n",
       "      <td>3</td>\n",
       "      <td>Johnston, Miss. Catherine Helen \"Carrie\"</td>\n",
       "      <td>0</td>\n",
       "      <td>25.14062</td>\n",
       "      <td>1</td>\n",
       "      <td>2</td>\n",
       "      <td>W./C. 6607</td>\n",
       "      <td>23.4500</td>\n",
       "      <td>0</td>\n",
       "      <td>0</td>\n",
       "      <td>1</td>\n",
       "    </tr>\n",
       "    <tr>\n",
       "      <th>889</th>\n",
       "      <td>890</td>\n",
       "      <td>1</td>\n",
       "      <td>1</td>\n",
       "      <td>Behr, Mr. Karl Howell</td>\n",
       "      <td>1</td>\n",
       "      <td>26.00000</td>\n",
       "      <td>0</td>\n",
       "      <td>0</td>\n",
       "      <td>111369</td>\n",
       "      <td>30.0000</td>\n",
       "      <td>1</td>\n",
       "      <td>0</td>\n",
       "      <td>0</td>\n",
       "    </tr>\n",
       "    <tr>\n",
       "      <th>890</th>\n",
       "      <td>891</td>\n",
       "      <td>0</td>\n",
       "      <td>3</td>\n",
       "      <td>Dooley, Mr. Patrick</td>\n",
       "      <td>1</td>\n",
       "      <td>32.00000</td>\n",
       "      <td>0</td>\n",
       "      <td>0</td>\n",
       "      <td>370376</td>\n",
       "      <td>7.7500</td>\n",
       "      <td>0</td>\n",
       "      <td>1</td>\n",
       "      <td>0</td>\n",
       "    </tr>\n",
       "  </tbody>\n",
       "</table>\n",
       "<p>891 rows × 13 columns</p>\n",
       "</div>"
      ],
      "text/plain": [
       "     PassengerId  Survived  Pclass  \\\n",
       "0              1         0       3   \n",
       "1              2         1       1   \n",
       "2              3         1       3   \n",
       "3              4         1       1   \n",
       "4              5         0       3   \n",
       "..           ...       ...     ...   \n",
       "886          887         0       2   \n",
       "887          888         1       1   \n",
       "888          889         0       3   \n",
       "889          890         1       1   \n",
       "890          891         0       3   \n",
       "\n",
       "                                                  Name Sex       Age  SibSp  \\\n",
       "0                              Braund, Mr. Owen Harris   1  22.00000      1   \n",
       "1    Cumings, Mrs. John Bradley (Florence Briggs Th...   0  38.00000      1   \n",
       "2                               Heikkinen, Miss. Laina   0  26.00000      0   \n",
       "3         Futrelle, Mrs. Jacques Heath (Lily May Peel)   0  35.00000      1   \n",
       "4                             Allen, Mr. William Henry   1  35.00000      0   \n",
       "..                                                 ...  ..       ...    ...   \n",
       "886                              Montvila, Rev. Juozas   1  27.00000      0   \n",
       "887                       Graham, Miss. Margaret Edith   0  19.00000      0   \n",
       "888           Johnston, Miss. Catherine Helen \"Carrie\"   0  25.14062      1   \n",
       "889                              Behr, Mr. Karl Howell   1  26.00000      0   \n",
       "890                                Dooley, Mr. Patrick   1  32.00000      0   \n",
       "\n",
       "     Parch            Ticket     Fare  C  Q  S  \n",
       "0        0         A/5 21171   7.2500  0  0  1  \n",
       "1        0          PC 17599  71.2833  1  0  0  \n",
       "2        0  STON/O2. 3101282   7.9250  0  0  1  \n",
       "3        0            113803  53.1000  0  0  1  \n",
       "4        0            373450   8.0500  0  0  1  \n",
       "..     ...               ...      ... .. .. ..  \n",
       "886      0            211536  13.0000  0  0  1  \n",
       "887      0            112053  30.0000  0  0  1  \n",
       "888      2        W./C. 6607  23.4500  0  0  1  \n",
       "889      0            111369  30.0000  1  0  0  \n",
       "890      0            370376   7.7500  0  1  0  \n",
       "\n",
       "[891 rows x 13 columns]"
      ]
     },
     "execution_count": 57,
     "metadata": {},
     "output_type": "execute_result"
    }
   ],
   "source": [
    "dt"
   ]
  },
  {
   "cell_type": "markdown",
   "id": "1dfcd4a1",
   "metadata": {},
   "source": [
    "##### We'll drop the drop the passengerID,Name,Ticket to detect outliers"
   ]
  },
  {
   "cell_type": "code",
   "execution_count": 58,
   "id": "026eab06",
   "metadata": {},
   "outputs": [],
   "source": [
    "dt.drop(['PassengerId','Name','Ticket'],axis=1,inplace = True)"
   ]
  },
  {
   "cell_type": "code",
   "execution_count": 59,
   "id": "0e2afdf0",
   "metadata": {},
   "outputs": [
    {
     "data": {
      "text/plain": [
       "Index(['Survived', 'Pclass', 'Sex', 'Age', 'SibSp', 'Parch', 'Fare', 'C', 'Q',\n",
       "       'S'],\n",
       "      dtype='object')"
      ]
     },
     "execution_count": 59,
     "metadata": {},
     "output_type": "execute_result"
    }
   ],
   "source": [
    "dt.columns"
   ]
  },
  {
   "cell_type": "code",
   "execution_count": 60,
   "id": "2bdbfbe0",
   "metadata": {
    "scrolled": true
   },
   "outputs": [
    {
     "data": {
      "text/plain": [
       "Survived      int64\n",
       "Pclass        int64\n",
       "Sex          object\n",
       "Age         float64\n",
       "SibSp         int64\n",
       "Parch         int64\n",
       "Fare        float64\n",
       "C             uint8\n",
       "Q             uint8\n",
       "S             uint8\n",
       "dtype: object"
      ]
     },
     "execution_count": 60,
     "metadata": {},
     "output_type": "execute_result"
    }
   ],
   "source": [
    "dt.dtypes"
   ]
  },
  {
   "cell_type": "code",
   "execution_count": 75,
   "id": "8d5f4825",
   "metadata": {},
   "outputs": [],
   "source": [
    "dt[['C','Q','S']] = dt[['C','Q','S']].astype(int)"
   ]
  },
  {
   "cell_type": "code",
   "execution_count": 76,
   "id": "51b1b2a9",
   "metadata": {
    "scrolled": true
   },
   "outputs": [
    {
     "data": {
      "text/plain": [
       "Survived      int64\n",
       "Pclass        int64\n",
       "Sex          object\n",
       "Age         float64\n",
       "SibSp         int64\n",
       "Parch         int64\n",
       "Fare        float64\n",
       "C             int32\n",
       "Q             int32\n",
       "S             int32\n",
       "dtype: object"
      ]
     },
     "execution_count": 76,
     "metadata": {},
     "output_type": "execute_result"
    }
   ],
   "source": [
    "dt.dtypes"
   ]
  },
  {
   "cell_type": "markdown",
   "id": "8e0033b6",
   "metadata": {},
   "source": [
    "## Train_Test_Split of Data"
   ]
  },
  {
   "cell_type": "code",
   "execution_count": 79,
   "id": "88d644fa",
   "metadata": {},
   "outputs": [],
   "source": [
    "#split the dataset into independent features and target variables\n",
    "x = dt.drop('Survived',axis=1)\n",
    "y = dt['Survived']"
   ]
  },
  {
   "cell_type": "code",
   "execution_count": 80,
   "id": "103516f2",
   "metadata": {
    "scrolled": true
   },
   "outputs": [
    {
     "data": {
      "text/plain": [
       "((891, 9), (891,))"
      ]
     },
     "execution_count": 80,
     "metadata": {},
     "output_type": "execute_result"
    }
   ],
   "source": [
    "x.shape, y.shape"
   ]
  },
  {
   "cell_type": "markdown",
   "id": "6c510237",
   "metadata": {},
   "source": [
    "## Scaling the input variables"
   ]
  },
  {
   "cell_type": "code",
   "execution_count": 86,
   "id": "f89e821e",
   "metadata": {},
   "outputs": [],
   "source": [
    "from sklearn.preprocessing import StandardScaler\n",
    "scaler = StandardScaler()"
   ]
  },
  {
   "cell_type": "code",
   "execution_count": 87,
   "id": "add6962f",
   "metadata": {},
   "outputs": [],
   "source": [
    "x1= scaler.fit_transform(x)"
   ]
  },
  {
   "cell_type": "markdown",
   "id": "73c4c2e3",
   "metadata": {},
   "source": [
    "# Data Modelling"
   ]
  },
  {
   "cell_type": "code",
   "execution_count": 85,
   "id": "68f75fdd",
   "metadata": {},
   "outputs": [],
   "source": [
    "from sklearn.model_selection import train_test_split\n",
    "from sklearn.linear_model import LogisticRegression\n",
    "from sklearn.metrics import accuracy_score, confusion_matrix, classification_report"
   ]
  },
  {
   "cell_type": "code",
   "execution_count": 88,
   "id": "a35748f8",
   "metadata": {},
   "outputs": [
    {
     "name": "stdout",
     "output_type": "stream",
     "text": [
      "At random state: 0\n",
      "Model Prediction on Training dataset: 81.14\n",
      "Model Prediction on Test Dataset: 79.37\n",
      "[[117  22]\n",
      " [ 24  60]]\n",
      "\n",
      "\n",
      "At random state: 1\n",
      "Model Prediction on Training dataset: 80.99\n",
      "Model Prediction on Test Dataset: 80.27\n",
      "[[111  17]\n",
      " [ 27  68]]\n",
      "\n",
      "\n",
      "At random state: 2\n",
      "Model Prediction on Training dataset: 81.74\n",
      "Model Prediction on Test Dataset: 80.27\n",
      "[[119  12]\n",
      " [ 32  60]]\n",
      "\n",
      "\n",
      "At random state: 3\n",
      "Model Prediction on Training dataset: 81.59\n",
      "Model Prediction on Test Dataset: 77.13\n",
      "[[108  29]\n",
      " [ 22  64]]\n",
      "\n",
      "\n",
      "At random state: 4\n",
      "Model Prediction on Training dataset: 79.49\n",
      "Model Prediction on Test Dataset: 81.61\n",
      "[[131  19]\n",
      " [ 22  51]]\n",
      "\n",
      "\n",
      "At random state: 5\n",
      "Model Prediction on Training dataset: 80.24\n",
      "Model Prediction on Test Dataset: 83.41\n",
      "[[127  13]\n",
      " [ 24  59]]\n",
      "\n",
      "\n",
      "At random state: 6\n",
      "Model Prediction on Training dataset: 78.44\n",
      "Model Prediction on Test Dataset: 86.1\n",
      "[[133   9]\n",
      " [ 22  59]]\n",
      "\n",
      "\n",
      "At random state: 7\n",
      "Model Prediction on Training dataset: 82.04\n",
      "Model Prediction on Test Dataset: 75.78\n",
      "[[112  23]\n",
      " [ 31  57]]\n",
      "\n",
      "\n",
      "At random state: 8\n",
      "Model Prediction on Training dataset: 80.99\n",
      "Model Prediction on Test Dataset: 78.92\n",
      "[[121  18]\n",
      " [ 29  55]]\n",
      "\n",
      "\n",
      "At random state: 9\n",
      "Model Prediction on Training dataset: 82.19\n",
      "Model Prediction on Test Dataset: 78.48\n",
      "[[114  16]\n",
      " [ 32  61]]\n",
      "\n",
      "\n",
      "At random state: 10\n",
      "Model Prediction on Training dataset: 80.54\n",
      "Model Prediction on Test Dataset: 82.96\n",
      "[[130  17]\n",
      " [ 21  55]]\n",
      "\n",
      "\n",
      "At random state: 11\n",
      "Model Prediction on Training dataset: 78.29\n",
      "Model Prediction on Test Dataset: 86.55\n",
      "[[136  11]\n",
      " [ 19  57]]\n",
      "\n",
      "\n",
      "At random state: 12\n",
      "Model Prediction on Training dataset: 80.99\n",
      "Model Prediction on Test Dataset: 82.06\n",
      "[[116  14]\n",
      " [ 26  67]]\n",
      "\n",
      "\n",
      "At random state: 13\n",
      "Model Prediction on Training dataset: 79.64\n",
      "Model Prediction on Test Dataset: 81.17\n",
      "[[122  22]\n",
      " [ 20  59]]\n",
      "\n",
      "\n",
      "At random state: 14\n",
      "Model Prediction on Training dataset: 80.24\n",
      "Model Prediction on Test Dataset: 82.06\n",
      "[[124  15]\n",
      " [ 25  59]]\n",
      "\n",
      "\n",
      "At random state: 15\n",
      "Model Prediction on Training dataset: 80.69\n",
      "Model Prediction on Test Dataset: 80.72\n",
      "[[108  19]\n",
      " [ 24  72]]\n",
      "\n",
      "\n",
      "At random state: 16\n",
      "Model Prediction on Training dataset: 81.89\n",
      "Model Prediction on Test Dataset: 77.13\n",
      "[[117  20]\n",
      " [ 31  55]]\n",
      "\n",
      "\n",
      "At random state: 17\n",
      "Model Prediction on Training dataset: 81.44\n",
      "Model Prediction on Test Dataset: 78.92\n",
      "[[112  19]\n",
      " [ 28  64]]\n",
      "\n",
      "\n",
      "At random state: 18\n",
      "Model Prediction on Training dataset: 79.64\n",
      "Model Prediction on Test Dataset: 83.86\n",
      "[[121  15]\n",
      " [ 21  66]]\n",
      "\n",
      "\n",
      "At random state: 19\n",
      "Model Prediction on Training dataset: 80.39\n",
      "Model Prediction on Test Dataset: 82.96\n",
      "[[125  12]\n",
      " [ 26  60]]\n",
      "\n",
      "\n",
      "At random state: 20\n",
      "Model Prediction on Training dataset: 80.09\n",
      "Model Prediction on Test Dataset: 82.06\n",
      "[[124  18]\n",
      " [ 22  59]]\n",
      "\n",
      "\n",
      "At random state: 21\n",
      "Model Prediction on Training dataset: 80.39\n",
      "Model Prediction on Test Dataset: 79.37\n",
      "[[114  19]\n",
      " [ 27  63]]\n",
      "\n",
      "\n",
      "At random state: 22\n",
      "Model Prediction on Training dataset: 80.69\n",
      "Model Prediction on Test Dataset: 78.48\n",
      "[[113  20]\n",
      " [ 28  62]]\n",
      "\n",
      "\n",
      "At random state: 23\n",
      "Model Prediction on Training dataset: 82.04\n",
      "Model Prediction on Test Dataset: 78.03\n",
      "[[123  22]\n",
      " [ 27  51]]\n",
      "\n",
      "\n",
      "At random state: 24\n",
      "Model Prediction on Training dataset: 79.64\n",
      "Model Prediction on Test Dataset: 83.41\n",
      "[[128  16]\n",
      " [ 21  58]]\n",
      "\n",
      "\n",
      "At random state: 25\n",
      "Model Prediction on Training dataset: 81.14\n",
      "Model Prediction on Test Dataset: 79.37\n",
      "[[119  22]\n",
      " [ 24  58]]\n",
      "\n",
      "\n",
      "At random state: 26\n",
      "Model Prediction on Training dataset: 80.39\n",
      "Model Prediction on Test Dataset: 79.37\n",
      "[[121  21]\n",
      " [ 25  56]]\n",
      "\n",
      "\n",
      "At random state: 27\n",
      "Model Prediction on Training dataset: 80.39\n",
      "Model Prediction on Test Dataset: 81.61\n",
      "[[121  17]\n",
      " [ 24  61]]\n",
      "\n",
      "\n",
      "At random state: 28\n",
      "Model Prediction on Training dataset: 80.99\n",
      "Model Prediction on Test Dataset: 77.13\n",
      "[[117  23]\n",
      " [ 28  55]]\n",
      "\n",
      "\n",
      "At random state: 29\n",
      "Model Prediction on Training dataset: 80.84\n",
      "Model Prediction on Test Dataset: 77.13\n",
      "[[117  30]\n",
      " [ 21  55]]\n",
      "\n",
      "\n",
      "At random state: 30\n",
      "Model Prediction on Training dataset: 81.14\n",
      "Model Prediction on Test Dataset: 79.37\n",
      "[[115  16]\n",
      " [ 30  62]]\n",
      "\n",
      "\n",
      "At random state: 31\n",
      "Model Prediction on Training dataset: 80.84\n",
      "Model Prediction on Test Dataset: 80.27\n",
      "[[115  16]\n",
      " [ 28  64]]\n",
      "\n",
      "\n",
      "At random state: 32\n",
      "Model Prediction on Training dataset: 81.74\n",
      "Model Prediction on Test Dataset: 77.13\n",
      "[[112  21]\n",
      " [ 30  60]]\n",
      "\n",
      "\n",
      "At random state: 33\n",
      "Model Prediction on Training dataset: 80.39\n",
      "Model Prediction on Test Dataset: 83.41\n",
      "[[119  15]\n",
      " [ 22  67]]\n",
      "\n",
      "\n",
      "At random state: 34\n",
      "Model Prediction on Training dataset: 79.49\n",
      "Model Prediction on Test Dataset: 83.86\n",
      "[[124  14]\n",
      " [ 22  63]]\n",
      "\n",
      "\n",
      "At random state: 35\n",
      "Model Prediction on Training dataset: 79.64\n",
      "Model Prediction on Test Dataset: 79.82\n",
      "[[111  25]\n",
      " [ 20  67]]\n",
      "\n",
      "\n",
      "At random state: 36\n",
      "Model Prediction on Training dataset: 80.69\n",
      "Model Prediction on Test Dataset: 83.41\n",
      "[[113  20]\n",
      " [ 17  73]]\n",
      "\n",
      "\n",
      "At random state: 37\n",
      "Model Prediction on Training dataset: 81.59\n",
      "Model Prediction on Test Dataset: 79.82\n",
      "[[114  15]\n",
      " [ 30  64]]\n",
      "\n",
      "\n",
      "At random state: 38\n",
      "Model Prediction on Training dataset: 80.09\n",
      "Model Prediction on Test Dataset: 84.75\n",
      "[[117  10]\n",
      " [ 24  72]]\n",
      "\n",
      "\n",
      "At random state: 39\n",
      "Model Prediction on Training dataset: 80.99\n",
      "Model Prediction on Test Dataset: 78.48\n",
      "[[127  20]\n",
      " [ 28  48]]\n",
      "\n",
      "\n",
      "At random state: 40\n",
      "Model Prediction on Training dataset: 80.39\n",
      "Model Prediction on Test Dataset: 81.17\n",
      "[[108  20]\n",
      " [ 22  73]]\n",
      "\n",
      "\n",
      "At random state: 41\n",
      "Model Prediction on Training dataset: 80.09\n",
      "Model Prediction on Test Dataset: 83.41\n",
      "[[122  14]\n",
      " [ 23  64]]\n",
      "\n",
      "\n",
      "At random state: 42\n",
      "Model Prediction on Training dataset: 80.09\n",
      "Model Prediction on Test Dataset: 80.72\n",
      "[[115  19]\n",
      " [ 24  65]]\n",
      "\n",
      "\n",
      "At random state: 43\n",
      "Model Prediction on Training dataset: 82.78\n",
      "Model Prediction on Test Dataset: 74.89\n",
      "[[114  21]\n",
      " [ 35  53]]\n",
      "\n",
      "\n",
      "At random state: 44\n",
      "Model Prediction on Training dataset: 81.44\n",
      "Model Prediction on Test Dataset: 76.23\n",
      "[[112  26]\n",
      " [ 27  58]]\n",
      "\n",
      "\n",
      "At random state: 45\n",
      "Model Prediction on Training dataset: 79.49\n",
      "Model Prediction on Test Dataset: 82.51\n",
      "[[124  21]\n",
      " [ 18  60]]\n",
      "\n",
      "\n",
      "At random state: 46\n",
      "Model Prediction on Training dataset: 81.14\n",
      "Model Prediction on Test Dataset: 82.96\n",
      "[[119  10]\n",
      " [ 28  66]]\n",
      "\n",
      "\n",
      "At random state: 47\n",
      "Model Prediction on Training dataset: 81.29\n",
      "Model Prediction on Test Dataset: 81.17\n",
      "[[118  14]\n",
      " [ 28  63]]\n",
      "\n",
      "\n",
      "At random state: 48\n",
      "Model Prediction on Training dataset: 81.29\n",
      "Model Prediction on Test Dataset: 78.48\n",
      "[[113  25]\n",
      " [ 23  62]]\n",
      "\n",
      "\n",
      "At random state: 49\n",
      "Model Prediction on Training dataset: 80.24\n",
      "Model Prediction on Test Dataset: 81.17\n",
      "[[122  25]\n",
      " [ 17  59]]\n",
      "\n",
      "\n",
      "At random state: 50\n",
      "Model Prediction on Training dataset: 81.29\n",
      "Model Prediction on Test Dataset: 82.51\n",
      "[[119  11]\n",
      " [ 28  65]]\n",
      "\n",
      "\n",
      "At random state: 51\n",
      "Model Prediction on Training dataset: 80.84\n",
      "Model Prediction on Test Dataset: 78.92\n",
      "[[121  20]\n",
      " [ 27  55]]\n",
      "\n",
      "\n",
      "At random state: 52\n",
      "Model Prediction on Training dataset: 80.69\n",
      "Model Prediction on Test Dataset: 80.27\n",
      "[[123  18]\n",
      " [ 26  56]]\n",
      "\n",
      "\n",
      "At random state: 53\n",
      "Model Prediction on Training dataset: 80.09\n",
      "Model Prediction on Test Dataset: 81.17\n",
      "[[116  20]\n",
      " [ 22  65]]\n",
      "\n",
      "\n",
      "At random state: 54\n",
      "Model Prediction on Training dataset: 80.84\n",
      "Model Prediction on Test Dataset: 78.48\n",
      "[[119  23]\n",
      " [ 25  56]]\n",
      "\n",
      "\n",
      "At random state: 55\n",
      "Model Prediction on Training dataset: 82.49\n",
      "Model Prediction on Test Dataset: 77.58\n",
      "[[113  17]\n",
      " [ 33  60]]\n",
      "\n",
      "\n",
      "At random state: 56\n",
      "Model Prediction on Training dataset: 79.79\n",
      "Model Prediction on Test Dataset: 83.86\n",
      "[[128  16]\n",
      " [ 20  59]]\n",
      "\n",
      "\n",
      "At random state: 57\n",
      "Model Prediction on Training dataset: 81.29\n",
      "Model Prediction on Test Dataset: 79.82\n",
      "[[119  16]\n",
      " [ 29  59]]\n",
      "\n",
      "\n",
      "At random state: 58\n",
      "Model Prediction on Training dataset: 80.24\n",
      "Model Prediction on Test Dataset: 80.27\n",
      "[[115  18]\n",
      " [ 26  64]]\n",
      "\n",
      "\n",
      "At random state: 59\n",
      "Model Prediction on Training dataset: 82.34\n",
      "Model Prediction on Test Dataset: 76.68\n",
      "[[106  20]\n",
      " [ 32  65]]\n",
      "\n",
      "\n",
      "At random state: 60\n",
      "Model Prediction on Training dataset: 82.49\n",
      "Model Prediction on Test Dataset: 75.78\n",
      "[[109  23]\n",
      " [ 31  60]]\n",
      "\n",
      "\n",
      "At random state: 61\n",
      "Model Prediction on Training dataset: 79.49\n",
      "Model Prediction on Test Dataset: 81.17\n",
      "[[119  21]\n",
      " [ 21  62]]\n",
      "\n",
      "\n",
      "At random state: 62\n",
      "Model Prediction on Training dataset: 80.54\n",
      "Model Prediction on Test Dataset: 81.61\n",
      "[[122  15]\n",
      " [ 26  60]]\n",
      "\n",
      "\n",
      "At random state: 63\n",
      "Model Prediction on Training dataset: 80.24\n",
      "Model Prediction on Test Dataset: 81.17\n",
      "[[116  19]\n",
      " [ 23  65]]\n",
      "\n",
      "\n",
      "At random state: 64\n",
      "Model Prediction on Training dataset: 79.94\n",
      "Model Prediction on Test Dataset: 83.41\n",
      "[[120  17]\n",
      " [ 20  66]]\n",
      "\n",
      "\n",
      "At random state: 65\n",
      "Model Prediction on Training dataset: 80.39\n",
      "Model Prediction on Test Dataset: 79.37\n",
      "[[121  24]\n",
      " [ 22  56]]\n",
      "\n",
      "\n",
      "At random state: 66\n",
      "Model Prediction on Training dataset: 80.99\n",
      "Model Prediction on Test Dataset: 76.68\n",
      "[[119  25]\n",
      " [ 27  52]]\n",
      "\n",
      "\n",
      "At random state: 67\n",
      "Model Prediction on Training dataset: 80.39\n",
      "Model Prediction on Test Dataset: 82.51\n"
     ]
    },
    {
     "name": "stdout",
     "output_type": "stream",
     "text": [
      "[[115  16]\n",
      " [ 23  69]]\n",
      "\n",
      "\n",
      "At random state: 68\n",
      "Model Prediction on Training dataset: 81.14\n",
      "Model Prediction on Test Dataset: 82.51\n",
      "[[123  12]\n",
      " [ 27  61]]\n",
      "\n",
      "\n",
      "At random state: 69\n",
      "Model Prediction on Training dataset: 80.24\n",
      "Model Prediction on Test Dataset: 82.06\n",
      "[[122  18]\n",
      " [ 22  61]]\n",
      "\n",
      "\n",
      "At random state: 70\n",
      "Model Prediction on Training dataset: 80.09\n",
      "Model Prediction on Test Dataset: 83.86\n",
      "[[118  13]\n",
      " [ 23  69]]\n",
      "\n",
      "\n",
      "At random state: 71\n",
      "Model Prediction on Training dataset: 79.94\n",
      "Model Prediction on Test Dataset: 81.17\n",
      "[[125  22]\n",
      " [ 20  56]]\n",
      "\n",
      "\n",
      "At random state: 72\n",
      "Model Prediction on Training dataset: 79.49\n",
      "Model Prediction on Test Dataset: 82.06\n",
      "[[115  23]\n",
      " [ 17  68]]\n",
      "\n",
      "\n",
      "At random state: 73\n",
      "Model Prediction on Training dataset: 80.24\n",
      "Model Prediction on Test Dataset: 81.61\n",
      "[[127  14]\n",
      " [ 27  55]]\n",
      "\n",
      "\n",
      "At random state: 74\n",
      "Model Prediction on Training dataset: 79.79\n",
      "Model Prediction on Test Dataset: 83.41\n",
      "[[120  13]\n",
      " [ 24  66]]\n",
      "\n",
      "\n",
      "At random state: 75\n",
      "Model Prediction on Training dataset: 81.29\n",
      "Model Prediction on Test Dataset: 77.13\n",
      "[[126  23]\n",
      " [ 28  46]]\n",
      "\n",
      "\n",
      "At random state: 76\n",
      "Model Prediction on Training dataset: 79.49\n",
      "Model Prediction on Test Dataset: 85.2\n",
      "[[123  12]\n",
      " [ 21  67]]\n",
      "\n",
      "\n",
      "At random state: 77\n",
      "Model Prediction on Training dataset: 80.24\n",
      "Model Prediction on Test Dataset: 80.27\n",
      "[[123  21]\n",
      " [ 23  56]]\n",
      "\n",
      "\n",
      "At random state: 78\n",
      "Model Prediction on Training dataset: 78.89\n",
      "Model Prediction on Test Dataset: 84.75\n",
      "[[122  21]\n",
      " [ 13  67]]\n",
      "\n",
      "\n",
      "At random state: 79\n",
      "Model Prediction on Training dataset: 80.69\n",
      "Model Prediction on Test Dataset: 82.06\n",
      "[[124  15]\n",
      " [ 25  59]]\n",
      "\n",
      "\n",
      "At random state: 80\n",
      "Model Prediction on Training dataset: 82.04\n",
      "Model Prediction on Test Dataset: 77.58\n",
      "[[114  20]\n",
      " [ 30  59]]\n",
      "\n",
      "\n",
      "At random state: 81\n",
      "Model Prediction on Training dataset: 82.34\n",
      "Model Prediction on Test Dataset: 76.23\n",
      "[[118  19]\n",
      " [ 34  52]]\n",
      "\n",
      "\n",
      "At random state: 82\n",
      "Model Prediction on Training dataset: 79.94\n",
      "Model Prediction on Test Dataset: 80.27\n",
      "[[123  22]\n",
      " [ 22  56]]\n",
      "\n",
      "\n",
      "At random state: 83\n",
      "Model Prediction on Training dataset: 81.14\n",
      "Model Prediction on Test Dataset: 79.37\n",
      "[[118  26]\n",
      " [ 20  59]]\n",
      "\n",
      "\n",
      "At random state: 84\n",
      "Model Prediction on Training dataset: 82.78\n",
      "Model Prediction on Test Dataset: 73.54\n",
      "[[109  23]\n",
      " [ 36  55]]\n",
      "\n",
      "\n",
      "At random state: 85\n",
      "Model Prediction on Training dataset: 80.69\n",
      "Model Prediction on Test Dataset: 80.27\n",
      "[[124  23]\n",
      " [ 21  55]]\n",
      "\n",
      "\n",
      "At random state: 86\n",
      "Model Prediction on Training dataset: 81.14\n",
      "Model Prediction on Test Dataset: 80.72\n",
      "[[105  21]\n",
      " [ 22  75]]\n",
      "\n",
      "\n",
      "At random state: 87\n",
      "Model Prediction on Training dataset: 80.99\n",
      "Model Prediction on Test Dataset: 80.72\n",
      "[[119  19]\n",
      " [ 24  61]]\n",
      "\n",
      "\n",
      "At random state: 88\n",
      "Model Prediction on Training dataset: 79.79\n",
      "Model Prediction on Test Dataset: 79.37\n",
      "[[118  27]\n",
      " [ 19  59]]\n",
      "\n",
      "\n",
      "At random state: 89\n",
      "Model Prediction on Training dataset: 79.94\n",
      "Model Prediction on Test Dataset: 82.06\n",
      "[[124  16]\n",
      " [ 24  59]]\n",
      "\n",
      "\n",
      "At random state: 90\n",
      "Model Prediction on Training dataset: 80.24\n",
      "Model Prediction on Test Dataset: 80.27\n",
      "[[124  21]\n",
      " [ 23  55]]\n",
      "\n",
      "\n",
      "At random state: 91\n",
      "Model Prediction on Training dataset: 81.14\n",
      "Model Prediction on Test Dataset: 78.92\n",
      "[[119  27]\n",
      " [ 20  57]]\n",
      "\n",
      "\n",
      "At random state: 92\n",
      "Model Prediction on Training dataset: 80.99\n",
      "Model Prediction on Test Dataset: 78.92\n",
      "[[118  21]\n",
      " [ 26  58]]\n",
      "\n",
      "\n",
      "At random state: 93\n",
      "Model Prediction on Training dataset: 79.19\n",
      "Model Prediction on Test Dataset: 86.1\n",
      "[[127  11]\n",
      " [ 20  65]]\n",
      "\n",
      "\n",
      "At random state: 94\n",
      "Model Prediction on Training dataset: 81.44\n",
      "Model Prediction on Test Dataset: 79.82\n",
      "[[119  15]\n",
      " [ 30  59]]\n",
      "\n",
      "\n",
      "At random state: 95\n",
      "Model Prediction on Training dataset: 80.09\n",
      "Model Prediction on Test Dataset: 82.06\n",
      "[[126  17]\n",
      " [ 23  57]]\n",
      "\n",
      "\n",
      "At random state: 96\n",
      "Model Prediction on Training dataset: 79.94\n",
      "Model Prediction on Test Dataset: 79.82\n",
      "[[127  26]\n",
      " [ 19  51]]\n",
      "\n",
      "\n",
      "At random state: 97\n",
      "Model Prediction on Training dataset: 81.44\n",
      "Model Prediction on Test Dataset: 78.48\n",
      "[[123  18]\n",
      " [ 30  52]]\n",
      "\n",
      "\n",
      "At random state: 98\n",
      "Model Prediction on Training dataset: 81.59\n",
      "Model Prediction on Test Dataset: 77.13\n",
      "[[109  26]\n",
      " [ 25  63]]\n",
      "\n",
      "\n",
      "At random state: 99\n",
      "Model Prediction on Training dataset: 81.14\n",
      "Model Prediction on Test Dataset: 76.23\n",
      "[[122  23]\n",
      " [ 30  48]]\n",
      "\n",
      "\n"
     ]
    }
   ],
   "source": [
    "log_reg = LogisticRegression()\n",
    "for i in range(0,100):\n",
    "    X_train, X_test, Y_train, Y_test = train_test_split(x1, y, test_size = 0.25, random_state = i)\n",
    "    log_reg.fit(X_train,Y_train)\n",
    "    reg_pred = log_reg.predict(X_test)\n",
    "    print('At random state:',i)\n",
    "    print('Model Prediction on Training dataset:',round(log_reg.score(X_train,Y_train)*100,2))\n",
    "    print('Model Prediction on Test Dataset:',round(accuracy_score(Y_test,reg_pred)*100,2))\n",
    "    print(confusion_matrix(Y_test,reg_pred))\n",
    "    print('\\n')"
   ]
  },
  {
   "cell_type": "code",
   "execution_count": 93,
   "id": "828464be",
   "metadata": {},
   "outputs": [
    {
     "name": "stdout",
     "output_type": "stream",
     "text": [
      "Accuracy Score 0.8295964125560538\n",
      "[[119  10]\n",
      " [ 28  66]]\n",
      "              precision    recall  f1-score   support\n",
      "\n",
      "           0       0.81      0.92      0.86       129\n",
      "           1       0.87      0.70      0.78        94\n",
      "\n",
      "    accuracy                           0.83       223\n",
      "   macro avg       0.84      0.81      0.82       223\n",
      "weighted avg       0.83      0.83      0.83       223\n",
      "\n"
     ]
    }
   ],
   "source": [
    "#we'll take random state = 46 based on the accuracy score nearly equal to trained dataset\n",
    "X_train, X_test, Y_train, Y_test = train_test_split(x1, y, test_size = 0.25, random_state = 46)\n",
    "log_reg.fit(X_train,Y_train)\n",
    "reg_pred = log_reg.predict(X_test)\n",
    "print('Accuracy Score', accuracy_score(Y_test,reg_pred))\n",
    "print(confusion_matrix(Y_test,reg_pred))\n",
    "print(classification_report(Y_test,reg_pred))"
   ]
  },
  {
   "cell_type": "markdown",
   "id": "eba29888",
   "metadata": {},
   "source": [
    "### Model prediction accuracy is 83%. But we can't conclude this as final unless we tune our hyperparameters and implement GridSearchCV"
   ]
  },
  {
   "cell_type": "code",
   "execution_count": 94,
   "id": "93c4ccde",
   "metadata": {},
   "outputs": [],
   "source": [
    "#Importing other Regression Models\n",
    "from sklearn.tree import DecisionTreeClassifier\n",
    "from sklearn.naive_bayes import MultinomialNB, GaussianNB\n",
    "from sklearn.neighbors import KNeighborsClassifier\n",
    "from sklearn.svm import SVC\n",
    "from sklearn.ensemble import RandomForestClassifier\n",
    "from sklearn.linear_model import Ridge\n",
    "\n",
    "from sklearn.model_selection import cross_val_score\n",
    "from sklearn.metrics import roc_curve, roc_auc_score\n",
    "from sklearn.model_selection import GridSearchCV"
   ]
  },
  {
   "cell_type": "markdown",
   "id": "f65cd864",
   "metadata": {},
   "source": [
    "### Cross validating"
   ]
  },
  {
   "cell_type": "code",
   "execution_count": 103,
   "id": "3c08c94a",
   "metadata": {},
   "outputs": [],
   "source": [
    "def cv_score(model):\n",
    "    X_train, X_test, Y_train, Y_test = train_test_split(x1, y, test_size=0.20, random_state = 46)\n",
    "    model.fit(X_train, Y_train)\n",
    "    model_pred = model.predict(X_test)\n",
    "    print('Accuracy on training set: ', model.score(X_train, Y_train))\n",
    "    print('Accuracy on validation set: ', accuracy_score(Y_test,model_pred))\n",
    "    \n",
    "    \n",
    "    score = cross_val_score(model,x1, y)\n",
    "    print('CV score: ', np.mean(score))\n",
    "    print(confusion_matrix(Y_test,model_pred))\n",
    "    print(classification_report(Y_test,model_pred))"
   ]
  },
  {
   "cell_type": "markdown",
   "id": "199fc0ef",
   "metadata": {},
   "source": [
    "### DTC"
   ]
  },
  {
   "cell_type": "code",
   "execution_count": 100,
   "id": "0958bb58",
   "metadata": {},
   "outputs": [],
   "source": [
    "dtc = DecisionTreeClassifier()\n",
    "dtc_para = {'criterion': ['gini','entropy'], \n",
    "            'splitter':['best','random'],\n",
    "            'max_depth': [10,20,30,40,50],\n",
    "            'min_samples_split': [2,4,6,8,10],\n",
    "            }\n",
    "dtc_tuning = GridSearchCV(estimator = dtc, param_grid = dtc_para, cv=5, scoring='accuracy',)"
   ]
  },
  {
   "cell_type": "code",
   "execution_count": 101,
   "id": "8816125f",
   "metadata": {},
   "outputs": [
    {
     "name": "stdout",
     "output_type": "stream",
     "text": [
      "{'criterion': 'gini', 'max_depth': 30, 'min_samples_split': 10, 'splitter': 'random'}\n",
      "0.8170924612390935\n"
     ]
    }
   ],
   "source": [
    "dtc_tuning.fit(x1,y)\n",
    "print(dtc_tuning.best_params_)\n",
    "print(dtc_tuning.best_score_)"
   ]
  },
  {
   "cell_type": "code",
   "execution_count": 104,
   "id": "4cb41322",
   "metadata": {},
   "outputs": [
    {
     "name": "stdout",
     "output_type": "stream",
     "text": [
      "Accuracy on training set:  0.8679775280898876\n",
      "Accuracy on validation set:  0.8156424581005587\n",
      "CV score:  0.7935032326909799\n",
      "[[89 15]\n",
      " [18 57]]\n",
      "              precision    recall  f1-score   support\n",
      "\n",
      "           0       0.83      0.86      0.84       104\n",
      "           1       0.79      0.76      0.78        75\n",
      "\n",
      "    accuracy                           0.82       179\n",
      "   macro avg       0.81      0.81      0.81       179\n",
      "weighted avg       0.81      0.82      0.82       179\n",
      "\n"
     ]
    }
   ],
   "source": [
    "model = DecisionTreeClassifier(criterion = 'entropy',\n",
    "                               max_depth = 10,\n",
    "                               min_samples_split = 10,\n",
    "                              splitter = 'random')\n",
    "cv_score(model)"
   ]
  },
  {
   "cell_type": "raw",
   "id": "80e73b23",
   "metadata": {},
   "source": [
    "Result of DTC: \n",
    "    Accuracy score: 81.56%\n",
    "    CV score: 79.35%\n",
    "    \n",
    "    Correctly classified class = 146/179\n",
    "    Incorrect classified class = 33/179"
   ]
  },
  {
   "cell_type": "markdown",
   "id": "accf664e",
   "metadata": {},
   "source": [
    "## BernoulliNB"
   ]
  },
  {
   "cell_type": "code",
   "execution_count": 124,
   "id": "84fcbcf0",
   "metadata": {},
   "outputs": [],
   "source": [
    "from sklearn.naive_bayes import BernoulliNB\n",
    "bnb = BernoulliNB()\n",
    "bnb_para = {'alpha':[3.0,2.5,2.0,1.5,1.4,1.3,1.3,1.2,1.1,1.0,0.1],\n",
    "            'fit_prior':[True,False]}\n",
    "bnb_tuning = GridSearchCV(estimator = bnb, param_grid = bnb_para,cv=5, scoring = 'accuracy', error_score = 'raise')"
   ]
  },
  {
   "cell_type": "code",
   "execution_count": 125,
   "id": "4992acf3",
   "metadata": {},
   "outputs": [
    {
     "name": "stdout",
     "output_type": "stream",
     "text": [
      "{'alpha': 3.0, 'fit_prior': True}\n",
      "0.7554328039671081\n"
     ]
    }
   ],
   "source": [
    "bnb_tuning.fit(x1, y)\n",
    "print(bnb_tuning.best_params_)\n",
    "print(bnb_tuning.best_score_)"
   ]
  },
  {
   "cell_type": "code",
   "execution_count": 126,
   "id": "c0b7a5c6",
   "metadata": {},
   "outputs": [
    {
     "name": "stdout",
     "output_type": "stream",
     "text": [
      "Accuracy on training set:  0.7584269662921348\n",
      "Accuracy on validation set:  0.770949720670391\n",
      "CV score:  0.7554328039671081\n",
      "[[87 17]\n",
      " [24 51]]\n",
      "              precision    recall  f1-score   support\n",
      "\n",
      "           0       0.78      0.84      0.81       104\n",
      "           1       0.75      0.68      0.71        75\n",
      "\n",
      "    accuracy                           0.77       179\n",
      "   macro avg       0.77      0.76      0.76       179\n",
      "weighted avg       0.77      0.77      0.77       179\n",
      "\n"
     ]
    }
   ],
   "source": [
    "model = BernoulliNB(alpha = 3.0, fit_prior = True)\n",
    "cv_score(model)"
   ]
  },
  {
   "cell_type": "raw",
   "id": "40236aa5",
   "metadata": {},
   "source": [
    "Result of BNB: \n",
    "    Accuracy score: 77.09%\n",
    "    CV score: 75.54%\n",
    "    \n",
    "    Correctly classified class = 138/179\n",
    "    Incorrect classified class = 41/179"
   ]
  },
  {
   "cell_type": "code",
   "execution_count": null,
   "id": "086c5cc6",
   "metadata": {},
   "outputs": [],
   "source": []
  },
  {
   "cell_type": "markdown",
   "id": "7dba27ac",
   "metadata": {},
   "source": [
    "## KneighborsClassifier"
   ]
  },
  {
   "cell_type": "code",
   "execution_count": 118,
   "id": "a04ad6aa",
   "metadata": {},
   "outputs": [
    {
     "name": "stdout",
     "output_type": "stream",
     "text": [
      "{'algorithm': 'auto', 'metric': 'euclidean', 'n_neighbors': 9, 'weights': 'uniform'}\n",
      "0.8080723118448307\n"
     ]
    }
   ],
   "source": [
    "from sklearn.neighbors import KNeighborsClassifier\n",
    "knn = KNeighborsClassifier()\n",
    "knn_para = {'n_neighbors': list(range(1,10)),\n",
    "            'weights': ['uniform','distance'],\n",
    "            'algorithm': ['auto','ball_tree','kd_tree','brute'],\n",
    "            'metric':['euclidean','minkowski']}\n",
    "knn_tuning = GridSearchCV(estimator = knn, param_grid = knn_para, cv=5, scoring = 'accuracy')\n",
    "knn_tuning.fit(x1,y)\n",
    "print(knn_tuning.best_params_)\n",
    "print(knn_tuning.best_score_)"
   ]
  },
  {
   "cell_type": "code",
   "execution_count": 119,
   "id": "71989de7",
   "metadata": {},
   "outputs": [
    {
     "name": "stdout",
     "output_type": "stream",
     "text": [
      "Accuracy on training set:  0.8286516853932584\n",
      "Accuracy on validation set:  0.8491620111731844\n",
      "CV score:  0.8080723118448307\n",
      "[[97  7]\n",
      " [20 55]]\n",
      "              precision    recall  f1-score   support\n",
      "\n",
      "           0       0.83      0.93      0.88       104\n",
      "           1       0.89      0.73      0.80        75\n",
      "\n",
      "    accuracy                           0.85       179\n",
      "   macro avg       0.86      0.83      0.84       179\n",
      "weighted avg       0.85      0.85      0.85       179\n",
      "\n"
     ]
    }
   ],
   "source": [
    "model = KNeighborsClassifier(algorithm = 'auto',\n",
    "                            metric = 'euclidean',\n",
    "                            n_neighbors = 9,\n",
    "                            weights = 'uniform')\n",
    "cv_score(model)"
   ]
  },
  {
   "cell_type": "raw",
   "id": "d00a8f82",
   "metadata": {},
   "source": [
    "Result of KNeighbor:\n",
    "    Accuracy score: 84.91%\n",
    "    CV score: 80.80%\n",
    "    \n",
    "    Correctly classified class = 152/179\n",
    "    Incorrect classified class = 27/179"
   ]
  },
  {
   "cell_type": "markdown",
   "id": "204ee6aa",
   "metadata": {},
   "source": [
    "## Support Vector classifier"
   ]
  },
  {
   "cell_type": "code",
   "execution_count": 129,
   "id": "6e6a4069",
   "metadata": {},
   "outputs": [
    {
     "name": "stdout",
     "output_type": "stream",
     "text": [
      "{'C': 1.3, 'gamma': 'scale', 'kernel': 'rbf'}\n",
      "0.8305191136777352\n"
     ]
    }
   ],
   "source": [
    "from sklearn.svm import SVC\n",
    "svc = SVC()\n",
    "svc_para = {'C': [0.9,1,1.2,1.3,1.4,1.5,2],\n",
    "            'kernel': ['rbf','poly','linear','sigmoid'],\n",
    "            'gamma': ['scale','auto']\n",
    "            }\n",
    "svc_tuning = GridSearchCV(estimator = svc, param_grid = svc_para, cv =5, scoring = 'accuracy')\n",
    "svc_tuning.fit(x1,y)\n",
    "print(svc_tuning.best_params_)\n",
    "print(svc_tuning.best_score_)"
   ]
  },
  {
   "cell_type": "code",
   "execution_count": 130,
   "id": "254de492",
   "metadata": {},
   "outputs": [
    {
     "name": "stdout",
     "output_type": "stream",
     "text": [
      "Accuracy on training set:  0.8370786516853933\n",
      "Accuracy on validation set:  0.8770949720670391\n",
      "CV score:  0.8305191136777352\n",
      "[[101   3]\n",
      " [ 19  56]]\n",
      "              precision    recall  f1-score   support\n",
      "\n",
      "           0       0.84      0.97      0.90       104\n",
      "           1       0.95      0.75      0.84        75\n",
      "\n",
      "    accuracy                           0.88       179\n",
      "   macro avg       0.90      0.86      0.87       179\n",
      "weighted avg       0.89      0.88      0.87       179\n",
      "\n"
     ]
    }
   ],
   "source": [
    "model = SVC(C = 1.3, gamma = 'scale', kernel = 'rbf')\n",
    "cv_score(model)"
   ]
  },
  {
   "cell_type": "raw",
   "id": "f17523b3",
   "metadata": {},
   "source": [
    "Result of SVC:\n",
    "    Accuracy score: 87.71%\n",
    "    CV score: 83.05%\n",
    "    \n",
    "    Correctly classified class = 157/179\n",
    "    Incorrect classified class = 22/179"
   ]
  },
  {
   "cell_type": "markdown",
   "id": "62517d9f",
   "metadata": {},
   "source": [
    "## Random Forest Classifier"
   ]
  },
  {
   "cell_type": "code",
   "execution_count": 132,
   "id": "8a44c9c9",
   "metadata": {},
   "outputs": [
    {
     "name": "stdout",
     "output_type": "stream",
     "text": [
      "{'criterion': 'entropy', 'max_features': 'sqrt', 'n_estimators': 125}\n",
      "0.8204993757802747\n"
     ]
    }
   ],
   "source": [
    "rfc = RandomForestClassifier()\n",
    "rfc_para = {'n_estimators':[100,125,150,200,250],\n",
    "            'criterion': ['gini','entropy'],\n",
    "           'max_features': ['auto','sqrt','log2']}\n",
    "rfc_tuning = GridSearchCV(estimator = rfc, param_grid = rfc_para, cv = 10,scoring = 'accuracy')\n",
    "rfc_tuning.fit(x1,y)\n",
    "print(rfc_tuning.best_params_)\n",
    "print(rfc_tuning.best_score_)"
   ]
  },
  {
   "cell_type": "code",
   "execution_count": 134,
   "id": "b0a99fd8",
   "metadata": {},
   "outputs": [
    {
     "name": "stdout",
     "output_type": "stream",
     "text": [
      "Accuracy on training set:  0.9845505617977528\n",
      "Accuracy on validation set:  0.8212290502793296\n",
      "CV score:  0.8069989328981231\n",
      "[[90 14]\n",
      " [18 57]]\n",
      "              precision    recall  f1-score   support\n",
      "\n",
      "           0       0.83      0.87      0.85       104\n",
      "           1       0.80      0.76      0.78        75\n",
      "\n",
      "    accuracy                           0.82       179\n",
      "   macro avg       0.82      0.81      0.81       179\n",
      "weighted avg       0.82      0.82      0.82       179\n",
      "\n"
     ]
    }
   ],
   "source": [
    "model = RandomForestClassifier(n_estimators = 125,\n",
    "                              criterion = 'entropy',\n",
    "                              max_features = 'sqrt')\n",
    "cv_score(model)"
   ]
  },
  {
   "cell_type": "raw",
   "id": "6071c2e0",
   "metadata": {},
   "source": [
    "Result of Random Forest:\n",
    "    Accuracy score: 82.12%\n",
    "    CV score: 80.69%\n",
    "    \n",
    "    Correctly classified class = 147/179\n",
    "    Incorrect classified class = 32/179"
   ]
  },
  {
   "cell_type": "markdown",
   "id": "e2d10080",
   "metadata": {},
   "source": [
    "## SGD Classifier"
   ]
  },
  {
   "cell_type": "code",
   "execution_count": 136,
   "id": "c866117d",
   "metadata": {},
   "outputs": [
    {
     "name": "stdout",
     "output_type": "stream",
     "text": [
      "{'alpha': 0.001, 'learning_rate': 'optimal', 'penalty': 'l2'}\n",
      "0.7935081148564296\n"
     ]
    },
    {
     "name": "stderr",
     "output_type": "stream",
     "text": [
      "C:\\Users\\Nitin Patel\\anaconda3\\lib\\site-packages\\sklearn\\model_selection\\_validation.py:372: FitFailedWarning: \n",
      "260 fits failed out of a total of 360.\n",
      "The score on these train-test partitions for these parameters will be set to nan.\n",
      "If these failures are not expected, you can try to debug them by setting error_score='raise'.\n",
      "\n",
      "Below are more details about the failures:\n",
      "--------------------------------------------------------------------------------\n",
      "240 fits failed with the following error:\n",
      "Traceback (most recent call last):\n",
      "  File \"C:\\Users\\Nitin Patel\\anaconda3\\lib\\site-packages\\sklearn\\model_selection\\_validation.py\", line 680, in _fit_and_score\n",
      "    estimator.fit(X_train, y_train, **fit_params)\n",
      "  File \"C:\\Users\\Nitin Patel\\anaconda3\\lib\\site-packages\\sklearn\\linear_model\\_stochastic_gradient.py\", line 883, in fit\n",
      "    return self._fit(\n",
      "  File \"C:\\Users\\Nitin Patel\\anaconda3\\lib\\site-packages\\sklearn\\linear_model\\_stochastic_gradient.py\", line 649, in _fit\n",
      "    self._validate_params()\n",
      "  File \"C:\\Users\\Nitin Patel\\anaconda3\\lib\\site-packages\\sklearn\\linear_model\\_stochastic_gradient.py\", line 149, in _validate_params\n",
      "    raise ValueError(\"eta0 must be > 0\")\n",
      "ValueError: eta0 must be > 0\n",
      "\n",
      "--------------------------------------------------------------------------------\n",
      "20 fits failed with the following error:\n",
      "Traceback (most recent call last):\n",
      "  File \"C:\\Users\\Nitin Patel\\anaconda3\\lib\\site-packages\\sklearn\\model_selection\\_validation.py\", line 680, in _fit_and_score\n",
      "    estimator.fit(X_train, y_train, **fit_params)\n",
      "  File \"C:\\Users\\Nitin Patel\\anaconda3\\lib\\site-packages\\sklearn\\linear_model\\_stochastic_gradient.py\", line 883, in fit\n",
      "    return self._fit(\n",
      "  File \"C:\\Users\\Nitin Patel\\anaconda3\\lib\\site-packages\\sklearn\\linear_model\\_stochastic_gradient.py\", line 649, in _fit\n",
      "    self._validate_params()\n",
      "  File \"C:\\Users\\Nitin Patel\\anaconda3\\lib\\site-packages\\sklearn\\linear_model\\_stochastic_gradient.py\", line 151, in _validate_params\n",
      "    raise ValueError(\n",
      "ValueError: alpha must be > 0 since learning_rate is 'optimal'. alpha is used to compute the optimal learning rate.\n",
      "\n",
      "  warnings.warn(some_fits_failed_message, FitFailedWarning)\n",
      "C:\\Users\\Nitin Patel\\anaconda3\\lib\\site-packages\\sklearn\\model_selection\\_search.py:969: UserWarning: One or more of the test scores are non-finite: [0.71946317 0.61616729        nan        nan        nan        nan\n",
      " 0.78672909 0.78672909        nan        nan        nan        nan\n",
      " 0.78897628 0.78672909        nan        nan        nan        nan\n",
      " 0.79350811 0.79011236        nan        nan        nan        nan\n",
      " 0.75642946 0.77545568        nan        nan        nan        nan\n",
      "        nan        nan        nan        nan        nan        nan]\n",
      "  warnings.warn(\n"
     ]
    }
   ],
   "source": [
    "from sklearn.linear_model import SGDClassifier\n",
    "sgd = SGDClassifier()\n",
    "sgd_para = {'alpha': [1,0.1,0.01,0.001,0.0001,0],\n",
    "            'penalty':['l2','l1'],\n",
    "            'learning_rate': ['optimal','constant','invscaling']}\n",
    "sgd_tuning = GridSearchCV(estimator = sgd, param_grid = sgd_para, cv = 10, scoring = 'accuracy')\n",
    "sgd_tuning.fit(x1,y)\n",
    "print(sgd_tuning.best_params_)\n",
    "print(sgd_tuning.best_score_)"
   ]
  },
  {
   "cell_type": "code",
   "execution_count": 137,
   "id": "aabfc6fd",
   "metadata": {},
   "outputs": [
    {
     "name": "stdout",
     "output_type": "stream",
     "text": [
      "Accuracy on training set:  0.7837078651685393\n",
      "Accuracy on validation set:  0.8268156424581006\n",
      "CV score:  0.7744209403050656\n",
      "[[93 11]\n",
      " [20 55]]\n",
      "              precision    recall  f1-score   support\n",
      "\n",
      "           0       0.82      0.89      0.86       104\n",
      "           1       0.83      0.73      0.78        75\n",
      "\n",
      "    accuracy                           0.83       179\n",
      "   macro avg       0.83      0.81      0.82       179\n",
      "weighted avg       0.83      0.83      0.82       179\n",
      "\n"
     ]
    }
   ],
   "source": [
    "model = SGDClassifier(alpha = 0.001, learning_rate = 'optimal', penalty = 'l2')\n",
    "cv_score(model)"
   ]
  },
  {
   "cell_type": "raw",
   "id": "9a846d48",
   "metadata": {},
   "source": [
    "Result of SGDClassifier:\n",
    "    Accuracy score: 82.68%\n",
    "    CV score: 77.44%\n",
    "    \n",
    "    Correctly classified class = 148/179\n",
    "    Incorrect classified class = 31/179"
   ]
  },
  {
   "cell_type": "markdown",
   "id": "29a72555",
   "metadata": {},
   "source": [
    "## AdaBoostClassifier"
   ]
  },
  {
   "cell_type": "code",
   "execution_count": 143,
   "id": "7f70f1eb",
   "metadata": {},
   "outputs": [
    {
     "name": "stdout",
     "output_type": "stream",
     "text": [
      "{'learning_rate': 1.5, 'n_estimators': 125, 'random_state': 40}\n",
      "0.8103948276944323\n"
     ]
    }
   ],
   "source": [
    "from sklearn.ensemble import AdaBoostClassifier\n",
    "abg = AdaBoostClassifier()\n",
    "abg_para = {'n_estimators': [100,125,150,175],\n",
    "            'learning_rate': [1,1.5,2,2.5],\n",
    "            'random_state': [40,50,60]}\n",
    "abg_tuning = GridSearchCV(abg, abg_para, cv = 5, scoring = 'accuracy')\n",
    "abg_tuning.fit(x1,y)\n",
    "print(abg_tuning.best_params_)\n",
    "print(abg_tuning.best_score_)"
   ]
  },
  {
   "cell_type": "code",
   "execution_count": 144,
   "id": "d7281623",
   "metadata": {},
   "outputs": [
    {
     "name": "stdout",
     "output_type": "stream",
     "text": [
      "Accuracy on training set:  0.8525280898876404\n",
      "Accuracy on validation set:  0.8268156424581006\n",
      "CV score:  0.8103948276944323\n",
      "[[91 13]\n",
      " [18 57]]\n",
      "              precision    recall  f1-score   support\n",
      "\n",
      "           0       0.83      0.88      0.85       104\n",
      "           1       0.81      0.76      0.79        75\n",
      "\n",
      "    accuracy                           0.83       179\n",
      "   macro avg       0.82      0.82      0.82       179\n",
      "weighted avg       0.83      0.83      0.83       179\n",
      "\n"
     ]
    }
   ],
   "source": [
    "model = AdaBoostClassifier(learning_rate = 1.5,\n",
    "                           n_estimators = 125,\n",
    "                           random_state = 40)\n",
    "cv_score(model)"
   ]
  },
  {
   "cell_type": "raw",
   "id": "5fd93385",
   "metadata": {},
   "source": [
    "Result of AdaBoost:\n",
    "     Accuracy score: 82.68%\n",
    "    CV score: 81.03%\n",
    "    \n",
    "    Correctly classified class = 148/179\n",
    "    Incorrect classified class = 31/179"
   ]
  },
  {
   "cell_type": "code",
   "execution_count": null,
   "id": "b994b205",
   "metadata": {},
   "outputs": [],
   "source": []
  },
  {
   "cell_type": "markdown",
   "id": "4f554c80",
   "metadata": {},
   "source": [
    "## Among the secified model, SVC performs the best due to its highest CV_Score"
   ]
  },
  {
   "cell_type": "markdown",
   "id": "bbc7db0d",
   "metadata": {},
   "source": [
    "## AUC_ROC Curve of Best model (RFC):"
   ]
  },
  {
   "cell_type": "code",
   "execution_count": 150,
   "id": "09d17e12",
   "metadata": {},
   "outputs": [
    {
     "data": {
      "text/plain": [
       "<function matplotlib.pyplot.show(close=None, block=None)>"
      ]
     },
     "execution_count": 150,
     "metadata": {},
     "output_type": "execute_result"
    },
    {
     "data": {
      "image/png": "[encoded data removed]",
      "text/plain": [
       "<Figure size 432x288 with 1 Axes>"
      ]
     },
     "metadata": {},
     "output_type": "display_data"
    }
   ],
   "source": [
    "import matplotlib.pyplot as plt\n",
    "svc = SVC(C = 1.3, gamma = 'scale', kernel = 'rbf')\n",
    "svc.fit(X_train, Y_train)\n",
    "y_pred = model.predict_proba(X_test)[:,1]\n",
    "fpr, tpr, threshold = roc_curve(Y_test,y_pred)\n",
    "plt.plot([0,1],[0,1],'r--')\n",
    "plt.plot(fpr, tpr)\n",
    "plt.xlabel('1-Specificity')\n",
    "plt.ylabel('Sensitivity')\n",
    "plt.title('AUC_ROC Curve of SVC')\n",
    "plt.show"
   ]
  },
  {
   "cell_type": "markdown",
   "id": "67d9c58a",
   "metadata": {},
   "source": [
    "Around 0.83 of curve is covered under AUC_ROC"
   ]
  },
  {
   "cell_type": "code",
   "execution_count": null,
   "id": "16ae2d04",
   "metadata": {},
   "outputs": [],
   "source": []
  },
  {
   "cell_type": "markdown",
   "id": "35ecf02a",
   "metadata": {},
   "source": [
    "## Saving the Best model"
   ]
  },
  {
   "cell_type": "code",
   "execution_count": 161,
   "id": "dd43f400",
   "metadata": {},
   "outputs": [
    {
     "name": "stdout",
     "output_type": "stream",
     "text": [
      "[0.83798883 0.8258427  0.81460674 0.79775281 0.87640449]\n",
      "0.8305191136777352\n"
     ]
    }
   ],
   "source": [
    "import pickle\n",
    "model = SVC(C = 1.3, gamma = 'scale', kernel = 'rbf')\n",
    "model.fit(x1,y)\n",
    "save_file = 'SVC_Practiceproject_5.pkl'\n",
    "pickle.dump(model, open(save_file,'wb'))\n",
    "\n",
    "load_file = pickle.load(open(save_file,'rb'))\n",
    "y_pred = load_file.predict(X_test)\n",
    "print(cross_val_score(model,x1,y))\n",
    "print(np.mean(cross_val_score(model,x1,y)))"
   ]
  },
  {
   "cell_type": "code",
   "execution_count": null,
   "id": "b2977ac7",
   "metadata": {},
   "outputs": [],
   "source": []
  }
 ],
 "metadata": {
  "kernelspec": {
   "display_name": "Python 3",
   "language": "python",
   "name": "python3"
  },
  "language_info": {
   "codemirror_mode": {
    "name": "ipython",
    "version": 3
   },
   "file_extension": ".py",
   "mimetype": "text/x-python",
   "name": "python",
   "nbconvert_exporter": "python",
   "pygments_lexer": "ipython3",
   "version": "3.8.8"
  }
 },
 "nbformat": 4,
 "nbformat_minor": 5
}
